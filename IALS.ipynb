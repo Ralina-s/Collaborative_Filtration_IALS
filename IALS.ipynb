{
 "cells": [
  {
   "cell_type": "code",
   "execution_count": 3,
   "metadata": {
    "collapsed": true
   },
   "outputs": [],
   "source": [
    "import numpy as np \n",
    "import pandas as pd\n",
    "\n",
    "from os.path import join\n",
    "import time\n",
    "import random\n",
    "\n",
    "from sklearn.metrics import mean_squared_error\n",
    "\n",
    "from matplotlib import pylab as plt\n",
    "%matplotlib inline"
   ]
  },
  {
   "cell_type": "markdown",
   "metadata": {},
   "source": [
    "### Загрузка данных"
   ]
  },
  {
   "cell_type": "code",
   "execution_count": 4,
   "metadata": {
    "collapsed": false
   },
   "outputs": [],
   "source": [
    "path_data = './data'\n",
    "train = pd.read_csv(join(path_data, 'train.txt'), names=['user', 'item', 'mark'], header=None, sep='\\t')\n",
    "test = pd.read_csv(join(path_data, 'test.txt'), names=['user', 'item'], header=None, sep='\\t')"
   ]
  },
  {
   "cell_type": "code",
   "execution_count": 5,
   "metadata": {
    "collapsed": false
   },
   "outputs": [
    {
     "data": {
      "text/html": [
       "<div>\n",
       "<table border=\"1\" class=\"dataframe\">\n",
       "  <thead>\n",
       "    <tr style=\"text-align: right;\">\n",
       "      <th></th>\n",
       "      <th>user</th>\n",
       "      <th>item</th>\n",
       "      <th>mark</th>\n",
       "    </tr>\n",
       "  </thead>\n",
       "  <tbody>\n",
       "    <tr>\n",
       "      <th>0</th>\n",
       "      <td>1</td>\n",
       "      <td>1</td>\n",
       "      <td>5</td>\n",
       "    </tr>\n",
       "    <tr>\n",
       "      <th>1</th>\n",
       "      <td>1</td>\n",
       "      <td>2</td>\n",
       "      <td>3</td>\n",
       "    </tr>\n",
       "    <tr>\n",
       "      <th>2</th>\n",
       "      <td>1</td>\n",
       "      <td>3</td>\n",
       "      <td>4</td>\n",
       "    </tr>\n",
       "    <tr>\n",
       "      <th>3</th>\n",
       "      <td>1</td>\n",
       "      <td>4</td>\n",
       "      <td>3</td>\n",
       "    </tr>\n",
       "    <tr>\n",
       "      <th>4</th>\n",
       "      <td>1</td>\n",
       "      <td>5</td>\n",
       "      <td>3</td>\n",
       "    </tr>\n",
       "  </tbody>\n",
       "</table>\n",
       "</div>"
      ],
      "text/plain": [
       "   user  item  mark\n",
       "0     1     1     5\n",
       "1     1     2     3\n",
       "2     1     3     4\n",
       "3     1     4     3\n",
       "4     1     5     3"
      ]
     },
     "execution_count": 5,
     "metadata": {},
     "output_type": "execute_result"
    }
   ],
   "source": [
    "train.head()"
   ]
  },
  {
   "cell_type": "code",
   "execution_count": 6,
   "metadata": {
    "collapsed": false
   },
   "outputs": [
    {
     "data": {
      "text/html": [
       "<div>\n",
       "<table border=\"1\" class=\"dataframe\">\n",
       "  <thead>\n",
       "    <tr style=\"text-align: right;\">\n",
       "      <th></th>\n",
       "      <th>user</th>\n",
       "      <th>item</th>\n",
       "    </tr>\n",
       "  </thead>\n",
       "  <tbody>\n",
       "    <tr>\n",
       "      <th>0</th>\n",
       "      <td>1</td>\n",
       "      <td>20</td>\n",
       "    </tr>\n",
       "    <tr>\n",
       "      <th>1</th>\n",
       "      <td>1</td>\n",
       "      <td>33</td>\n",
       "    </tr>\n",
       "    <tr>\n",
       "      <th>2</th>\n",
       "      <td>1</td>\n",
       "      <td>61</td>\n",
       "    </tr>\n",
       "    <tr>\n",
       "      <th>3</th>\n",
       "      <td>1</td>\n",
       "      <td>117</td>\n",
       "    </tr>\n",
       "    <tr>\n",
       "      <th>4</th>\n",
       "      <td>1</td>\n",
       "      <td>155</td>\n",
       "    </tr>\n",
       "  </tbody>\n",
       "</table>\n",
       "</div>"
      ],
      "text/plain": [
       "   user  item\n",
       "0     1    20\n",
       "1     1    33\n",
       "2     1    61\n",
       "3     1   117\n",
       "4     1   155"
      ]
     },
     "execution_count": 6,
     "metadata": {},
     "output_type": "execute_result"
    }
   ],
   "source": [
    "test.head()"
   ]
  },
  {
   "cell_type": "markdown",
   "metadata": {},
   "source": [
    "### Парсинг данных"
   ]
  },
  {
   "cell_type": "code",
   "execution_count": 7,
   "metadata": {
    "collapsed": false
   },
   "outputs": [],
   "source": [
    "# -- Составляем основную матрицу user-item\n",
    "user_item_table = train.pivot_table(columns='item', index='user', values='mark').fillna(0)"
   ]
  },
  {
   "cell_type": "code",
   "execution_count": 8,
   "metadata": {
    "collapsed": false
   },
   "outputs": [
    {
     "data": {
      "text/html": [
       "<div>\n",
       "<table border=\"1\" class=\"dataframe\">\n",
       "  <thead>\n",
       "    <tr style=\"text-align: right;\">\n",
       "      <th>item</th>\n",
       "      <th>1</th>\n",
       "      <th>2</th>\n",
       "      <th>3</th>\n",
       "      <th>4</th>\n",
       "      <th>5</th>\n",
       "      <th>6</th>\n",
       "      <th>7</th>\n",
       "      <th>8</th>\n",
       "      <th>9</th>\n",
       "      <th>10</th>\n",
       "      <th>...</th>\n",
       "      <th>1673</th>\n",
       "      <th>1674</th>\n",
       "      <th>1675</th>\n",
       "      <th>1676</th>\n",
       "      <th>1677</th>\n",
       "      <th>1678</th>\n",
       "      <th>1679</th>\n",
       "      <th>1680</th>\n",
       "      <th>1681</th>\n",
       "      <th>1682</th>\n",
       "    </tr>\n",
       "    <tr>\n",
       "      <th>user</th>\n",
       "      <th></th>\n",
       "      <th></th>\n",
       "      <th></th>\n",
       "      <th></th>\n",
       "      <th></th>\n",
       "      <th></th>\n",
       "      <th></th>\n",
       "      <th></th>\n",
       "      <th></th>\n",
       "      <th></th>\n",
       "      <th></th>\n",
       "      <th></th>\n",
       "      <th></th>\n",
       "      <th></th>\n",
       "      <th></th>\n",
       "      <th></th>\n",
       "      <th></th>\n",
       "      <th></th>\n",
       "      <th></th>\n",
       "      <th></th>\n",
       "      <th></th>\n",
       "    </tr>\n",
       "  </thead>\n",
       "  <tbody>\n",
       "    <tr>\n",
       "      <th>1</th>\n",
       "      <td>5.0</td>\n",
       "      <td>3.0</td>\n",
       "      <td>4.0</td>\n",
       "      <td>3.0</td>\n",
       "      <td>3.0</td>\n",
       "      <td>5.0</td>\n",
       "      <td>4.0</td>\n",
       "      <td>1.0</td>\n",
       "      <td>5.0</td>\n",
       "      <td>3.0</td>\n",
       "      <td>...</td>\n",
       "      <td>0.0</td>\n",
       "      <td>0.0</td>\n",
       "      <td>0.0</td>\n",
       "      <td>0.0</td>\n",
       "      <td>0.0</td>\n",
       "      <td>0.0</td>\n",
       "      <td>0.0</td>\n",
       "      <td>0.0</td>\n",
       "      <td>0.0</td>\n",
       "      <td>0.0</td>\n",
       "    </tr>\n",
       "    <tr>\n",
       "      <th>2</th>\n",
       "      <td>4.0</td>\n",
       "      <td>0.0</td>\n",
       "      <td>0.0</td>\n",
       "      <td>0.0</td>\n",
       "      <td>0.0</td>\n",
       "      <td>0.0</td>\n",
       "      <td>0.0</td>\n",
       "      <td>0.0</td>\n",
       "      <td>0.0</td>\n",
       "      <td>2.0</td>\n",
       "      <td>...</td>\n",
       "      <td>0.0</td>\n",
       "      <td>0.0</td>\n",
       "      <td>0.0</td>\n",
       "      <td>0.0</td>\n",
       "      <td>0.0</td>\n",
       "      <td>0.0</td>\n",
       "      <td>0.0</td>\n",
       "      <td>0.0</td>\n",
       "      <td>0.0</td>\n",
       "      <td>0.0</td>\n",
       "    </tr>\n",
       "    <tr>\n",
       "      <th>3</th>\n",
       "      <td>0.0</td>\n",
       "      <td>0.0</td>\n",
       "      <td>0.0</td>\n",
       "      <td>0.0</td>\n",
       "      <td>0.0</td>\n",
       "      <td>0.0</td>\n",
       "      <td>0.0</td>\n",
       "      <td>0.0</td>\n",
       "      <td>0.0</td>\n",
       "      <td>0.0</td>\n",
       "      <td>...</td>\n",
       "      <td>0.0</td>\n",
       "      <td>0.0</td>\n",
       "      <td>0.0</td>\n",
       "      <td>0.0</td>\n",
       "      <td>0.0</td>\n",
       "      <td>0.0</td>\n",
       "      <td>0.0</td>\n",
       "      <td>0.0</td>\n",
       "      <td>0.0</td>\n",
       "      <td>0.0</td>\n",
       "    </tr>\n",
       "    <tr>\n",
       "      <th>4</th>\n",
       "      <td>0.0</td>\n",
       "      <td>0.0</td>\n",
       "      <td>0.0</td>\n",
       "      <td>0.0</td>\n",
       "      <td>0.0</td>\n",
       "      <td>0.0</td>\n",
       "      <td>0.0</td>\n",
       "      <td>0.0</td>\n",
       "      <td>0.0</td>\n",
       "      <td>0.0</td>\n",
       "      <td>...</td>\n",
       "      <td>0.0</td>\n",
       "      <td>0.0</td>\n",
       "      <td>0.0</td>\n",
       "      <td>0.0</td>\n",
       "      <td>0.0</td>\n",
       "      <td>0.0</td>\n",
       "      <td>0.0</td>\n",
       "      <td>0.0</td>\n",
       "      <td>0.0</td>\n",
       "      <td>0.0</td>\n",
       "    </tr>\n",
       "    <tr>\n",
       "      <th>5</th>\n",
       "      <td>0.0</td>\n",
       "      <td>0.0</td>\n",
       "      <td>0.0</td>\n",
       "      <td>0.0</td>\n",
       "      <td>0.0</td>\n",
       "      <td>0.0</td>\n",
       "      <td>0.0</td>\n",
       "      <td>0.0</td>\n",
       "      <td>0.0</td>\n",
       "      <td>0.0</td>\n",
       "      <td>...</td>\n",
       "      <td>0.0</td>\n",
       "      <td>0.0</td>\n",
       "      <td>0.0</td>\n",
       "      <td>0.0</td>\n",
       "      <td>0.0</td>\n",
       "      <td>0.0</td>\n",
       "      <td>0.0</td>\n",
       "      <td>0.0</td>\n",
       "      <td>0.0</td>\n",
       "      <td>0.0</td>\n",
       "    </tr>\n",
       "    <tr>\n",
       "      <th>6</th>\n",
       "      <td>4.0</td>\n",
       "      <td>0.0</td>\n",
       "      <td>0.0</td>\n",
       "      <td>0.0</td>\n",
       "      <td>0.0</td>\n",
       "      <td>0.0</td>\n",
       "      <td>2.0</td>\n",
       "      <td>4.0</td>\n",
       "      <td>4.0</td>\n",
       "      <td>0.0</td>\n",
       "      <td>...</td>\n",
       "      <td>0.0</td>\n",
       "      <td>0.0</td>\n",
       "      <td>0.0</td>\n",
       "      <td>0.0</td>\n",
       "      <td>0.0</td>\n",
       "      <td>0.0</td>\n",
       "      <td>0.0</td>\n",
       "      <td>0.0</td>\n",
       "      <td>0.0</td>\n",
       "      <td>0.0</td>\n",
       "    </tr>\n",
       "    <tr>\n",
       "      <th>7</th>\n",
       "      <td>0.0</td>\n",
       "      <td>0.0</td>\n",
       "      <td>0.0</td>\n",
       "      <td>5.0</td>\n",
       "      <td>0.0</td>\n",
       "      <td>0.0</td>\n",
       "      <td>5.0</td>\n",
       "      <td>5.0</td>\n",
       "      <td>5.0</td>\n",
       "      <td>4.0</td>\n",
       "      <td>...</td>\n",
       "      <td>0.0</td>\n",
       "      <td>0.0</td>\n",
       "      <td>0.0</td>\n",
       "      <td>0.0</td>\n",
       "      <td>0.0</td>\n",
       "      <td>0.0</td>\n",
       "      <td>0.0</td>\n",
       "      <td>0.0</td>\n",
       "      <td>0.0</td>\n",
       "      <td>0.0</td>\n",
       "    </tr>\n",
       "    <tr>\n",
       "      <th>8</th>\n",
       "      <td>0.0</td>\n",
       "      <td>0.0</td>\n",
       "      <td>0.0</td>\n",
       "      <td>0.0</td>\n",
       "      <td>0.0</td>\n",
       "      <td>0.0</td>\n",
       "      <td>3.0</td>\n",
       "      <td>0.0</td>\n",
       "      <td>0.0</td>\n",
       "      <td>0.0</td>\n",
       "      <td>...</td>\n",
       "      <td>0.0</td>\n",
       "      <td>0.0</td>\n",
       "      <td>0.0</td>\n",
       "      <td>0.0</td>\n",
       "      <td>0.0</td>\n",
       "      <td>0.0</td>\n",
       "      <td>0.0</td>\n",
       "      <td>0.0</td>\n",
       "      <td>0.0</td>\n",
       "      <td>0.0</td>\n",
       "    </tr>\n",
       "    <tr>\n",
       "      <th>9</th>\n",
       "      <td>0.0</td>\n",
       "      <td>0.0</td>\n",
       "      <td>0.0</td>\n",
       "      <td>0.0</td>\n",
       "      <td>0.0</td>\n",
       "      <td>0.0</td>\n",
       "      <td>4.0</td>\n",
       "      <td>0.0</td>\n",
       "      <td>0.0</td>\n",
       "      <td>0.0</td>\n",
       "      <td>...</td>\n",
       "      <td>0.0</td>\n",
       "      <td>0.0</td>\n",
       "      <td>0.0</td>\n",
       "      <td>0.0</td>\n",
       "      <td>0.0</td>\n",
       "      <td>0.0</td>\n",
       "      <td>0.0</td>\n",
       "      <td>0.0</td>\n",
       "      <td>0.0</td>\n",
       "      <td>0.0</td>\n",
       "    </tr>\n",
       "    <tr>\n",
       "      <th>10</th>\n",
       "      <td>4.0</td>\n",
       "      <td>0.0</td>\n",
       "      <td>0.0</td>\n",
       "      <td>4.0</td>\n",
       "      <td>0.0</td>\n",
       "      <td>0.0</td>\n",
       "      <td>0.0</td>\n",
       "      <td>0.0</td>\n",
       "      <td>4.0</td>\n",
       "      <td>0.0</td>\n",
       "      <td>...</td>\n",
       "      <td>0.0</td>\n",
       "      <td>0.0</td>\n",
       "      <td>0.0</td>\n",
       "      <td>0.0</td>\n",
       "      <td>0.0</td>\n",
       "      <td>0.0</td>\n",
       "      <td>0.0</td>\n",
       "      <td>0.0</td>\n",
       "      <td>0.0</td>\n",
       "      <td>0.0</td>\n",
       "    </tr>\n",
       "  </tbody>\n",
       "</table>\n",
       "<p>10 rows × 1680 columns</p>\n",
       "</div>"
      ],
      "text/plain": [
       "item  1     2     3     4     5     6     7     8     9     10    ...   1673  \\\n",
       "user                                                              ...          \n",
       "1      5.0   3.0   4.0   3.0   3.0   5.0   4.0   1.0   5.0   3.0  ...    0.0   \n",
       "2      4.0   0.0   0.0   0.0   0.0   0.0   0.0   0.0   0.0   2.0  ...    0.0   \n",
       "3      0.0   0.0   0.0   0.0   0.0   0.0   0.0   0.0   0.0   0.0  ...    0.0   \n",
       "4      0.0   0.0   0.0   0.0   0.0   0.0   0.0   0.0   0.0   0.0  ...    0.0   \n",
       "5      0.0   0.0   0.0   0.0   0.0   0.0   0.0   0.0   0.0   0.0  ...    0.0   \n",
       "6      4.0   0.0   0.0   0.0   0.0   0.0   2.0   4.0   4.0   0.0  ...    0.0   \n",
       "7      0.0   0.0   0.0   5.0   0.0   0.0   5.0   5.0   5.0   4.0  ...    0.0   \n",
       "8      0.0   0.0   0.0   0.0   0.0   0.0   3.0   0.0   0.0   0.0  ...    0.0   \n",
       "9      0.0   0.0   0.0   0.0   0.0   0.0   4.0   0.0   0.0   0.0  ...    0.0   \n",
       "10     4.0   0.0   0.0   4.0   0.0   0.0   0.0   0.0   4.0   0.0  ...    0.0   \n",
       "\n",
       "item  1674  1675  1676  1677  1678  1679  1680  1681  1682  \n",
       "user                                                        \n",
       "1      0.0   0.0   0.0   0.0   0.0   0.0   0.0   0.0   0.0  \n",
       "2      0.0   0.0   0.0   0.0   0.0   0.0   0.0   0.0   0.0  \n",
       "3      0.0   0.0   0.0   0.0   0.0   0.0   0.0   0.0   0.0  \n",
       "4      0.0   0.0   0.0   0.0   0.0   0.0   0.0   0.0   0.0  \n",
       "5      0.0   0.0   0.0   0.0   0.0   0.0   0.0   0.0   0.0  \n",
       "6      0.0   0.0   0.0   0.0   0.0   0.0   0.0   0.0   0.0  \n",
       "7      0.0   0.0   0.0   0.0   0.0   0.0   0.0   0.0   0.0  \n",
       "8      0.0   0.0   0.0   0.0   0.0   0.0   0.0   0.0   0.0  \n",
       "9      0.0   0.0   0.0   0.0   0.0   0.0   0.0   0.0   0.0  \n",
       "10     0.0   0.0   0.0   0.0   0.0   0.0   0.0   0.0   0.0  \n",
       "\n",
       "[10 rows x 1680 columns]"
      ]
     },
     "execution_count": 8,
     "metadata": {},
     "output_type": "execute_result"
    }
   ],
   "source": [
    "user_item_table.head(10)"
   ]
  },
  {
   "cell_type": "code",
   "execution_count": 9,
   "metadata": {
    "collapsed": false
   },
   "outputs": [],
   "source": [
    "itemID_columnID = {}\n",
    "for i, a in enumerate(user_item_table.columns):\n",
    "    itemID_columnID[a] = i"
   ]
  },
  {
   "cell_type": "code",
   "execution_count": 10,
   "metadata": {
    "collapsed": true
   },
   "outputs": [],
   "source": [
    "# -- Подсчет среднего для оценок (не учитывая нули)\n",
    "def mean_known(arr):\n",
    "    count_zeros = np.count_nonzero(arr, axis=1)\n",
    "    count_zeros[count_zeros == 0.0] = 1.0\n",
    "    return (arr.sum(axis=1)).astype(float) / count_zeros"
   ]
  },
  {
   "cell_type": "code",
   "execution_count": 11,
   "metadata": {
    "collapsed": true
   },
   "outputs": [],
   "source": [
    "# -- Заполнение нулей средним значением оценки пользователя\n",
    "def fillzero2mean(arr):\n",
    "    mean_user = mean_known(arr)\n",
    "    mean_item = mean_known(arr.T)\n",
    "    for i in xrange(len(mean_user)):\n",
    "        for j in xrange(len(mean_item)):\n",
    "            if arr[i, j] == 0:\n",
    "                arr[i, j] = np.mean([mean_user[i], mean_item[j]])\n",
    "    \n",
    "    return arr"
   ]
  },
  {
   "cell_type": "code",
   "execution_count": 12,
   "metadata": {
    "collapsed": false
   },
   "outputs": [],
   "source": [
    "user_item = user_item_table.values"
   ]
  },
  {
   "cell_type": "code",
   "execution_count": 13,
   "metadata": {
    "collapsed": false
   },
   "outputs": [
    {
     "data": {
      "image/png": "[encoded data removed]",
      "text/plain": [
       "<matplotlib.figure.Figure at 0x119d07810>"
      ]
     },
     "metadata": {},
     "output_type": "display_data"
    },
    {
     "name": "stdout",
     "output_type": "stream",
     "text": [
      "96.0445387063\n"
     ]
    }
   ],
   "source": [
    "count_mark = np.asarray([np.count_nonzero(u) for u in user_item])\n",
    "plt.hist(count_mark, bins=50)\n",
    "plt.show()\n",
    "\n",
    "print count_mark.mean()"
   ]
  },
  {
   "cell_type": "code",
   "execution_count": 14,
   "metadata": {
    "collapsed": true
   },
   "outputs": [],
   "source": [
    "def count_log(arr):\n",
    "    for row in xrange(len(arr)):\n",
    "        arr[row] = [np.log(np.count_nonzero(arr[row]) + 1)] * len(arr[row])\n",
    "    return np.array(arr)"
   ]
  },
  {
   "cell_type": "code",
   "execution_count": 15,
   "metadata": {
    "collapsed": true
   },
   "outputs": [],
   "source": [
    "def count_log(arr):\n",
    "    for row in xrange(len(arr)):\n",
    "        arr[row] = np.array([(np.count_nonzero(arr[row]) + 1)] * len(arr[row])) / len(arr[row])\n",
    "    return np.array(arr)"
   ]
  },
  {
   "cell_type": "markdown",
   "metadata": {},
   "source": [
    "### Cross-validation"
   ]
  },
  {
   "cell_type": "code",
   "execution_count": 16,
   "metadata": {
    "collapsed": false
   },
   "outputs": [],
   "source": [
    "def train_test_split(user_item, test_size=0.6):\n",
    "    trainCV = user_item.copy()\n",
    "    non_zero = []\n",
    "    for user in xrange(user_item.shape[0]):\n",
    "        for item in xrange(user_item.shape[1]):\n",
    "            if user_item[user, item] > 0:\n",
    "                non_zero.append((user, item))\n",
    "    \n",
    "    random.shuffle(non_zero)\n",
    "    test = non_zero[: int(len(non_zero) * test_size)]\n",
    "    train = non_zero[int(len(non_zero) * test_size) :]\n",
    "    \n",
    "    for cell in test:\n",
    "        trainCV[cell[0], cell[1]] = 0.0\n",
    "        \n",
    "    return trainCV, test, train"
   ]
  },
  {
   "cell_type": "code",
   "execution_count": 17,
   "metadata": {
    "collapsed": false
   },
   "outputs": [],
   "source": [
    "trainCV, testCV, train_pairs = train_test_split(user_item, test_size = 0.1)\n",
    "trainCV_fillna = fillzero2mean(trainCV.copy())"
   ]
  },
  {
   "cell_type": "code",
   "execution_count": 18,
   "metadata": {
    "collapsed": true
   },
   "outputs": [],
   "source": [
    "trainCV_count_log = count_log(trainCV.copy())"
   ]
  },
  {
   "cell_type": "markdown",
   "metadata": {},
   "source": [
    "### Accuracy"
   ]
  },
  {
   "cell_type": "code",
   "execution_count": 19,
   "metadata": {
    "collapsed": false
   },
   "outputs": [],
   "source": [
    "def MSE(test, predict, train):\n",
    "    result = 0\n",
    "    for cell in test:\n",
    "        result += (predict[cell[0], cell[1]] - train[cell[0], cell[1]]) ** 2\n",
    "    \n",
    "    return result / len(test)"
   ]
  },
  {
   "cell_type": "markdown",
   "metadata": {},
   "source": [
    "### Графики"
   ]
  },
  {
   "cell_type": "code",
   "execution_count": 20,
   "metadata": {
    "collapsed": true
   },
   "outputs": [],
   "source": [
    "def plot_MSE(setsMSE):\n",
    "    plt.figure(figsize=(10,10))\n",
    "    \n",
    "    for i, (MSE_train, MSE_test) in enumerate(setsMSE):\n",
    "        plt.plot(range(len(MSE_train)), MSE_train, label='Train ' + str(i), color='b')\n",
    "        plt.plot(range(len(MSE_test)), MSE_test, label='Test ' + str(i), color='r')\n",
    "        \n",
    "    plt.legend()\n",
    "    return plt"
   ]
  },
  {
   "cell_type": "markdown",
   "metadata": {},
   "source": [
    "### I-ALS"
   ]
  },
  {
   "cell_type": "code",
   "execution_count": 87,
   "metadata": {
    "collapsed": false,
    "scrolled": true
   },
   "outputs": [
    {
     "name": "stdout",
     "output_type": "stream",
     "text": [
      "1291.13039528\n",
      "___________________\n",
      "Step: 0\n",
      "0.285347688963\n",
      "MSE All: 0.135414\n",
      "MSE Train: 0.145999\n",
      "MSE Test: 1.098503\n",
      "Time: 74.974 sec\n",
      "1243.76914935\n",
      "___________________\n",
      "Step: 1\n",
      "0.220181275679\n",
      "MSE All: 0.087147\n",
      "MSE Train: 0.049976\n",
      "MSE Test: 1.034526\n",
      "Time: 71.276 sec\n",
      "1210.72754086\n",
      "___________________\n",
      "Step: 2\n",
      "0.183165718276\n",
      "MSE All: 0.077869\n",
      "MSE Train: 0.035532\n",
      "MSE Test: 1.011064\n",
      "Time: 78.551 sec\n",
      "1193.10080004\n",
      "___________________\n",
      "Step: 3\n",
      "0.171735497216\n",
      "MSE All: 0.073936\n",
      "MSE Train: 0.030812\n",
      "MSE Test: 0.996863\n",
      "Time: 78.738 sec\n"
     ]
    },
    {
     "ename": "KeyboardInterrupt",
     "evalue": "",
     "output_type": "error",
     "traceback": [
      "\u001b[0;31m---------------------------------------------------------------------------\u001b[0m",
      "\u001b[0;31mKeyboardInterrupt\u001b[0m                         Traceback (most recent call last)",
      "\u001b[0;32m<ipython-input-87-1385564cd86e>\u001b[0m in \u001b[0;36m<module>\u001b[0;34m()\u001b[0m\n\u001b[1;32m      1\u001b[0m \u001b[0mmyIALS\u001b[0m \u001b[0;34m=\u001b[0m \u001b[0mIALS\u001b[0m\u001b[0;34m(\u001b[0m\u001b[0mn_iterations\u001b[0m\u001b[0;34m=\u001b[0m\u001b[0;36m15\u001b[0m\u001b[0;34m,\u001b[0m \u001b[0mn_features\u001b[0m\u001b[0;34m=\u001b[0m\u001b[0;36m100\u001b[0m\u001b[0;34m,\u001b[0m \u001b[0mpenalty\u001b[0m\u001b[0;34m=\u001b[0m\u001b[0;36m0.3\u001b[0m\u001b[0;34m,\u001b[0m \u001b[0malpha\u001b[0m\u001b[0;34m=\u001b[0m\u001b[0;36m40\u001b[0m\u001b[0;34m)\u001b[0m\u001b[0;34m\u001b[0m\u001b[0m\n\u001b[0;32m----> 2\u001b[0;31m \u001b[0mmyIALS\u001b[0m\u001b[0;34m.\u001b[0m\u001b[0mfit\u001b[0m\u001b[0;34m(\u001b[0m\u001b[0mtrainCV\u001b[0m\u001b[0;34m.\u001b[0m\u001b[0mcopy\u001b[0m\u001b[0;34m(\u001b[0m\u001b[0;34m)\u001b[0m\u001b[0;34m,\u001b[0m \u001b[0mtrainCV_fillna\u001b[0m\u001b[0;34m.\u001b[0m\u001b[0mcopy\u001b[0m\u001b[0;34m(\u001b[0m\u001b[0;34m)\u001b[0m\u001b[0;34m,\u001b[0m \u001b[0muser_item\u001b[0m\u001b[0;34m.\u001b[0m\u001b[0mcopy\u001b[0m\u001b[0;34m(\u001b[0m\u001b[0;34m)\u001b[0m\u001b[0;34m)\u001b[0m\u001b[0;34m\u001b[0m\u001b[0m\n\u001b[0m",
      "\u001b[0;32m<ipython-input-85-a60650f4ac8d>\u001b[0m in \u001b[0;36mfit\u001b[0;34m(self, data_table, data_table_fillna, original)\u001b[0m\n\u001b[1;32m     43\u001b[0m                 \u001b[0mmmmm\u001b[0m\u001b[0;34m.\u001b[0m\u001b[0mappend\u001b[0m\u001b[0;34m(\u001b[0m\u001b[0mtmp\u001b[0m\u001b[0;34m.\u001b[0m\u001b[0mmean\u001b[0m\u001b[0;34m(\u001b[0m\u001b[0;34m)\u001b[0m\u001b[0;34m)\u001b[0m\u001b[0;34m\u001b[0m\u001b[0m\n\u001b[1;32m     44\u001b[0m                 \u001b[0mtmp\u001b[0m \u001b[0;34m=\u001b[0m \u001b[0mnp\u001b[0m\u001b[0;34m.\u001b[0m\u001b[0mlinalg\u001b[0m\u001b[0;34m.\u001b[0m\u001b[0minv\u001b[0m\u001b[0;34m(\u001b[0m\u001b[0mtmp\u001b[0m\u001b[0;34m)\u001b[0m\u001b[0;34m\u001b[0m\u001b[0m\n\u001b[0;32m---> 45\u001b[0;31m                 \u001b[0mtmp\u001b[0m \u001b[0;34m=\u001b[0m \u001b[0mnp\u001b[0m\u001b[0;34m.\u001b[0m\u001b[0mdot\u001b[0m\u001b[0;34m(\u001b[0m\u001b[0mnp\u001b[0m\u001b[0;34m.\u001b[0m\u001b[0mdot\u001b[0m\u001b[0;34m(\u001b[0m\u001b[0mtmp\u001b[0m\u001b[0;34m,\u001b[0m \u001b[0mY\u001b[0m\u001b[0;34m.\u001b[0m\u001b[0mT\u001b[0m\u001b[0;34m)\u001b[0m\u001b[0;34m,\u001b[0m \u001b[0mnp\u001b[0m\u001b[0;34m.\u001b[0m\u001b[0mdiag\u001b[0m\u001b[0;34m(\u001b[0m\u001b[0mC\u001b[0m\u001b[0;34m[\u001b[0m\u001b[0muser\u001b[0m\u001b[0;34m]\u001b[0m\u001b[0;34m)\u001b[0m\u001b[0;34m)\u001b[0m\u001b[0;34m\u001b[0m\u001b[0m\n\u001b[0m\u001b[1;32m     46\u001b[0m                 \u001b[0mtmp\u001b[0m \u001b[0;34m=\u001b[0m \u001b[0mnp\u001b[0m\u001b[0;34m.\u001b[0m\u001b[0mdot\u001b[0m\u001b[0;34m(\u001b[0m\u001b[0mtmp\u001b[0m\u001b[0;34m,\u001b[0m \u001b[0mdata_table_fillna\u001b[0m\u001b[0;34m[\u001b[0m\u001b[0muser\u001b[0m\u001b[0;34m]\u001b[0m\u001b[0;34m)\u001b[0m\u001b[0;34m\u001b[0m\u001b[0m\n\u001b[1;32m     47\u001b[0m                 \u001b[0mX\u001b[0m\u001b[0;34m[\u001b[0m\u001b[0muser\u001b[0m\u001b[0;34m]\u001b[0m \u001b[0;34m=\u001b[0m \u001b[0mtmp\u001b[0m\u001b[0;34m\u001b[0m\u001b[0m\n",
      "\u001b[0;31mKeyboardInterrupt\u001b[0m: "
     ]
    }
   ],
   "source": [
    "myIALS = IALS(n_iterations=15, n_features=100, penalty=0.3, alpha=40) \n",
    "myIALS.fit(trainCV.copy(), trainCV_fillna.copy(), user_item.copy())"
   ]
  },
  {
   "cell_type": "code",
   "execution_count": 118,
   "metadata": {
    "collapsed": true
   },
   "outputs": [
    {
     "name": "stdout",
     "output_type": "stream",
     "text": [
      "___________________\n",
      "Step: 0\n",
      "1.54809556911\n",
      "MSE All: 2.934154\n",
      "MSE Train: 4.047003\n",
      "MSE Test: 4.051590\n",
      "Time: 30.968 sec\n",
      "___________________\n",
      "Step: 1\n",
      "1.56563118504\n",
      "MSE All: 2.896967\n",
      "MSE Train: 4.046263\n",
      "MSE Test: 4.049588\n",
      "Time: 30.530 sec\n",
      "___________________\n",
      "Step: 2\n",
      "1.56263162183\n",
      "MSE All: 2.892431\n",
      "MSE Train: 4.048238\n",
      "MSE Test: 4.051620\n",
      "Time: 30.913 sec\n",
      "___________________\n",
      "Step: 3\n",
      "1.5620110562\n",
      "MSE All: 2.891627\n",
      "MSE Train: 4.048623\n",
      "MSE Test: 4.052020\n",
      "Time: 31.560 sec\n",
      "___________________\n",
      "Step: 4\n",
      "1.56189627708\n",
      "MSE All: 2.891484\n",
      "MSE Train: 4.048692\n",
      "MSE Test: 4.052092\n",
      "Time: 30.899 sec\n",
      "___________________\n",
      "Step: 5\n",
      "1.56187554717\n",
      "MSE All: 2.891458\n",
      "MSE Train: 4.048705\n",
      "MSE Test: 4.052105\n",
      "Time: 31.719 sec\n",
      "___________________\n",
      "Step: 6\n",
      "1.56187185086\n",
      "MSE All: 2.891454\n",
      "MSE Train: 4.048707\n",
      "MSE Test: 4.052107\n",
      "Time: 30.916 sec\n",
      "___________________\n",
      "Step: 7\n",
      "1.56187119666\n",
      "MSE All: 2.891453\n",
      "MSE Train: 4.048707\n",
      "MSE Test: 4.052108\n",
      "Time: 31.879 sec\n",
      "___________________\n",
      "Step: 8\n",
      "1.56187108137\n",
      "MSE All: 2.891453\n",
      "MSE Train: 4.048707\n",
      "MSE Test: 4.052108\n",
      "Time: 30.961 sec\n",
      "___________________\n",
      "Step: 9\n",
      "1.5618710611\n",
      "MSE All: 2.891453\n",
      "MSE Train: 4.048707\n",
      "MSE Test: 4.052108\n",
      "Time: 31.511 sec\n",
      "___________________\n",
      "Step: 10\n",
      "1.56187105754\n",
      "MSE All: 2.891453\n",
      "MSE Train: 4.048707\n",
      "MSE Test: 4.052108\n",
      "Time: 31.238 sec\n",
      "___________________\n",
      "Step: 11\n",
      "1.56187105691\n",
      "MSE All: 2.891453\n",
      "MSE Train: 4.048707\n",
      "MSE Test: 4.052108\n",
      "Time: 32.001 sec\n",
      "___________________\n",
      "Step: 12\n",
      "1.5618710568\n",
      "MSE All: 2.891453\n",
      "MSE Train: 4.048707\n",
      "MSE Test: 4.052108\n",
      "Time: 30.860 sec\n",
      "___________________\n",
      "Step: 13\n",
      "1.56187105678\n",
      "MSE All: 2.891453\n",
      "MSE Train: 4.048707\n",
      "MSE Test: 4.052108\n",
      "Time: 32.127 sec\n",
      "___________________\n",
      "Step: 14\n",
      "1.56187105678\n",
      "MSE All: 2.891453\n",
      "MSE Train: 4.048707\n",
      "MSE Test: 4.052108\n",
      "Time: 30.825 sec\n"
     ]
    },
    {
     "data": {
      "text/plain": [
       "<__main__.IALS instance at 0x11ca6d050>"
      ]
     },
     "execution_count": 118,
     "metadata": {},
     "output_type": "execute_result"
    }
   ],
   "source": [
    "myIALS2 = IALS(n_iterations=15, n_features=2, penalty=2.0, alpha=40) \n",
    "myIALS2.fit(trainCV.copy(), trainCV_fillna.copy(), user_item.copy())"
   ]
  },
  {
   "cell_type": "code",
   "execution_count": 119,
   "metadata": {
    "collapsed": false
   },
   "outputs": [
    {
     "data": {
      "image/png": "[encoded data removed]",
      "text/plain": [
       "<matplotlib.figure.Figure at 0x11c821ed0>"
      ]
     },
     "metadata": {},
     "output_type": "display_data"
    }
   ],
   "source": [
    "plot_MSE([(myIALS.MSE_train, myIALS.MSE_test), (myIALS2.MSE_train, myIALS2.MSE_test)]).show()"
   ]
  },
  {
   "cell_type": "code",
   "execution_count": null,
   "metadata": {
    "collapsed": false
   },
   "outputs": [],
   "source": [
    "class IALS():\n",
    "    def __init__(self, n_iterations=20, n_features=100, penalty=0.001, alpha=40):\n",
    "        self.n_iterations = n_iterations\n",
    "        self.n_features = n_features\n",
    "        self.penalty = penalty\n",
    "        self.alpha = alpha\n",
    "        \n",
    "    def fit(self, data_table, data_table_fillna, data_table_count_log, original, add=False, new_alpha=None, new_n_iteration=None, new_penalty=None):\n",
    "        if not add:\n",
    "            self.X = []\n",
    "            self.Y = []\n",
    "        \n",
    "#             self.MSE_train = []\n",
    "#             self.MSE_test = []\n",
    "\n",
    "            X = np.random.rand(data_table.shape[0], self.n_features)  # -- m x f\n",
    "            Y = np.random.rand(data_table.shape[1], self.n_features)  # -- n x f\n",
    "        else:\n",
    "            if new_alpha:\n",
    "                self.alpha = new_alpha\n",
    "            if new_n_iteration:\n",
    "                self.n_iterations = new_n_iteration\n",
    "            if new_penalty:\n",
    "                self.penalty = new_penalty\n",
    "                \n",
    "            X = self.X[-1].copy()\n",
    "            Y = self.Y[-1].copy()\n",
    "            \n",
    "        C = 1.0 + self.alpha * (data_table > 0).astype(float) \n",
    "#         + data_table_count_log)\n",
    "#         self.alpha * (data_table > 0).astype(float) \\\n",
    "#          + \n",
    "#                  +  * (data_table > 0).astype(float)              # -- weights Cu \n",
    "                   \n",
    "#         C = 1 + self.alpha * user_item\n",
    "        C_I = C - np.ones(C.shape) # -- Cu - I array\n",
    "        lambdaI = self.penalty  * np.eye(self.n_features)\n",
    "        \n",
    "        last_time = time.time()\n",
    "        for stage in xrange(self.n_iterations):\n",
    "            \n",
    "            # -- X^T Ci X = X^T X + X^T (Ci - I) X\n",
    "            # -- X^T X - independent on user\n",
    "            \n",
    "            # -- Y^T Cu Y = Y^T Y + Y^T (Cu - I) Y\n",
    "            # -- Y^T Y - independent on user\n",
    "            \n",
    "            YTY = np.dot(Y.T, Y)\n",
    "            \n",
    "#             tmpX = np.zeros(X.shape)\n",
    "#             tmpY = np.zeros(Y.shape)\n",
    "            \n",
    "            for user in xrange(data_table.shape[0]):\n",
    "                tmp = YTY.copy()\n",
    "                tmp = tmp + np.dot(np.dot(Y.T, np.diag(C_I[user])), Y)  # -- Y^T (Cu - I) Y\n",
    "#                 tmp = np.dot(np.dot(Y.T, np.diag(C[user])), Y)\n",
    "                tmp = tmp + lambdaI\n",
    "#                 tmp = tmp + self.penalty * tmp.mean() * np.eye(self.n_features)\n",
    "                tmp = np.linalg.inv(tmp)\n",
    "                tmp = np.dot(np.dot(tmp, Y.T), np.diag(C[user]))\n",
    "                tmp = np.dot(tmp, data_table_fillna[user])\n",
    "                X[user] = tmp\n",
    "                \n",
    "            XTX = np.dot(X.T, X)\n",
    "            \n",
    "            for item in xrange(data_table.shape[1]):\n",
    "                tmp = XTX.copy()\n",
    "                tmp = tmp + np.dot(np.dot(X.T, np.diag(C_I[:, item])), X)  # -- X^T (Cu - I) X\n",
    "#                 tmp = np.dot(np.dot(X.T, np.diag(C[:, item])), X)\n",
    "                tmp = tmp + lambdaI\n",
    "#                 tmp = tmp + self.penalty * tmp.mean() * np.eye(self.n_features)\n",
    "                tmp = np.linalg.inv(tmp)\n",
    "                tmp = np.dot(np.dot(tmp, X.T), np.diag(C[:, item]))\n",
    "                tmp = np.dot(tmp, data_table_fillna[:, item])\n",
    "                Y[item] = tmp\n",
    "                \n",
    "#             X = tmpX.copy()\n",
    "#             Y = tmpY.copy()\n",
    "            print '___________________'\n",
    "            print \"Step: %d\" %stage\n",
    "            predicted = np.dot(X, Y.T)\n",
    "            print \"MSE All: %f\" %mean_squared_error(predicted, data_table_fillna)\n",
    "            print \"MSE Train: %f\" %MSE(train_pairs, predicted, original)    \n",
    "            print \"MSE Test: %f\" %MSE(testCV, predicted, original)\n",
    "            print \"Time: {:.3f} sec\".format(time.time() - last_time)\n",
    "            last_time = time.time()\n",
    "            \n",
    "        self.X.append(X.copy())\n",
    "        self.Y.append(Y.copy())\n",
    "        \n",
    "        return self\n",
    "    \n",
    "    def predict(self):\n",
    "        return np.dot(self.X[-1], self.Y[-1].T)\n",
    "        \n",
    "        "
   ]
  },
  {
   "cell_type": "code",
   "execution_count": 122,
   "metadata": {
    "collapsed": false,
    "scrolled": true
   },
   "outputs": [
    {
     "name": "stdout",
     "output_type": "stream",
     "text": [
      "___________________\n",
      "Step: 0\n",
      "0.226440817513\n",
      "MSE All: 0.939989\n",
      "MSE Train: 0.622290\n",
      "MSE Test: 1.132929\n",
      "Time: 71.338 sec\n",
      "___________________\n",
      "Step: 1\n",
      "0.376424654632\n",
      "MSE All: 0.465275\n",
      "MSE Train: 0.360987\n",
      "MSE Test: 1.009093\n",
      "Time: 69.817 sec\n",
      "___________________\n",
      "Step: 2\n",
      "0.401934744717\n",
      "MSE All: 0.300036\n",
      "MSE Train: 0.300983\n",
      "MSE Test: 0.980687\n",
      "Time: 69.963 sec\n",
      "___________________\n",
      "Step: 3\n",
      "0.395838261346\n",
      "MSE All: 0.218883\n",
      "MSE Train: 0.270375\n",
      "MSE Test: 0.946849\n",
      "Time: 69.581 sec\n",
      "___________________\n",
      "Step: 4\n",
      "0.392912722645\n",
      "MSE All: 0.177095\n",
      "MSE Train: 0.251932\n",
      "MSE Test: 0.919257\n",
      "Time: 69.719 sec\n",
      "___________________\n",
      "Step: 5\n",
      "0.395004513266\n",
      "MSE All: 0.152830\n",
      "MSE Train: 0.240835\n",
      "MSE Test: 0.900637\n",
      "Time: 69.605 sec\n",
      "___________________\n",
      "Step: 6\n",
      "0.397402151265\n",
      "MSE All: 0.137070\n",
      "MSE Train: 0.233946\n",
      "MSE Test: 0.888322\n",
      "Time: 69.918 sec\n",
      "___________________\n",
      "Step: 7\n",
      "0.398212159729\n",
      "MSE All: 0.125985\n",
      "MSE Train: 0.229437\n",
      "MSE Test: 0.879981\n",
      "Time: 69.702 sec\n",
      "___________________\n",
      "Step: 8\n",
      "0.397339889149\n",
      "MSE All: 0.117751\n",
      "MSE Train: 0.226332\n",
      "MSE Test: 0.874159\n",
      "Time: 69.812 sec\n",
      "___________________\n",
      "Step: 9\n",
      "0.395125929717\n",
      "MSE All: 0.111398\n",
      "MSE Train: 0.224103\n",
      "MSE Test: 0.869979\n",
      "Time: 69.501 sec\n"
     ]
    },
    {
     "data": {
      "text/plain": [
       "<__main__.IALS instance at 0x11ccb2bd8>"
      ]
     },
     "execution_count": 122,
     "metadata": {},
     "output_type": "execute_result"
    }
   ],
   "source": [
    "myIALS = IALS(n_iterations=10, n_features=100, penalty=300.0, alpha=40) \n",
    "myIALS.fit(trainCV.copy(), trainCV_fillna.copy(), user_item.copy())"
   ]
  },
  {
   "cell_type": "code",
   "execution_count": 123,
   "metadata": {
    "collapsed": false,
    "scrolled": true
   },
   "outputs": [
    {
     "name": "stdout",
     "output_type": "stream",
     "text": [
      "___________________\n",
      "Step: 0\n",
      "0.084623021203\n",
      "MSE All: 1.097027\n",
      "MSE Train: 0.710357\n",
      "MSE Test: 1.163991\n",
      "Time: 68.190 sec\n",
      "___________________\n",
      "Step: 1\n",
      "-0.0852750320195\n",
      "MSE All: 0.536258\n",
      "MSE Train: 0.437142\n",
      "MSE Test: 1.016593\n",
      "Time: 67.618 sec\n",
      "___________________\n",
      "Step: 2\n",
      "-0.109417022529\n",
      "MSE All: 0.344631\n",
      "MSE Train: 0.365083\n",
      "MSE Test: 0.976735\n",
      "Time: 67.961 sec\n",
      "___________________\n",
      "Step: 3\n",
      "-0.0989742949583\n",
      "MSE All: 0.249741\n",
      "MSE Train: 0.329765\n",
      "MSE Test: 0.938598\n",
      "Time: 70.721 sec\n",
      "___________________\n",
      "Step: 4\n",
      "-0.0925763963881\n",
      "MSE All: 0.200965\n",
      "MSE Train: 0.308988\n",
      "MSE Test: 0.909050\n",
      "Time: 70.204 sec\n",
      "___________________\n",
      "Step: 5\n",
      "-0.0929268156021\n",
      "MSE All: 0.172772\n",
      "MSE Train: 0.296609\n",
      "MSE Test: 0.889467\n",
      "Time: 69.776 sec\n",
      "___________________\n",
      "Step: 6\n",
      "-0.0959980846632\n",
      "MSE All: 0.154561\n",
      "MSE Train: 0.288968\n",
      "MSE Test: 0.876831\n",
      "Time: 66.963 sec\n",
      "___________________\n",
      "Step: 7\n",
      "-0.0988326313084\n",
      "MSE All: 0.141824\n",
      "MSE Train: 0.283990\n",
      "MSE Test: 0.868524\n",
      "Time: 67.742 sec\n",
      "___________________\n",
      "Step: 8\n",
      "-0.100093471635\n",
      "MSE All: 0.132418\n",
      "MSE Train: 0.280567\n",
      "MSE Test: 0.862901\n",
      "Time: 70.839 sec\n",
      "___________________\n",
      "Step: 9\n",
      "-0.0995693066269\n",
      "MSE All: 0.125204\n",
      "MSE Train: 0.278104\n",
      "MSE Test: 0.858986\n",
      "Time: 66.833 sec\n"
     ]
    },
    {
     "data": {
      "text/plain": [
       "<__main__.IALS instance at 0x11c612998>"
      ]
     },
     "execution_count": 123,
     "metadata": {},
     "output_type": "execute_result"
    }
   ],
   "source": [
    "myIALS2 = IALS(n_iterations=10, n_features=100, penalty=350.0, alpha=40) \n",
    "myIALS2.fit(trainCV.copy(), trainCV_fillna.copy(), user_item.copy())"
   ]
  },
  {
   "cell_type": "code",
   "execution_count": 124,
   "metadata": {
    "collapsed": false,
    "scrolled": true
   },
   "outputs": [
    {
     "name": "stdout",
     "output_type": "stream",
     "text": [
      "___________________\n",
      "Step: 0\n",
      "-0.0161840787083\n",
      "MSE All: 1.263927\n",
      "MSE Train: 0.797372\n",
      "MSE Test: 1.211129\n",
      "Time: 67.973 sec\n",
      "___________________\n",
      "Step: 1\n",
      "0.0488817189212\n",
      "MSE All: 0.617272\n",
      "MSE Train: 0.514139\n",
      "MSE Test: 1.024633\n",
      "Time: 72.428 sec\n",
      "___________________\n",
      "Step: 2\n",
      "0.103118176442\n",
      "MSE All: 0.391011\n",
      "MSE Train: 0.433629\n",
      "MSE Test: 0.973158\n",
      "Time: 68.148 sec\n",
      "___________________\n",
      "Step: 3\n",
      "0.141147813418\n",
      "MSE All: 0.279632\n",
      "MSE Train: 0.392021\n",
      "MSE Test: 0.927998\n",
      "Time: 68.030 sec\n",
      "___________________\n",
      "Step: 4\n",
      "0.163561368883\n",
      "MSE All: 0.223965\n",
      "MSE Train: 0.367979\n",
      "MSE Test: 0.896476\n",
      "Time: 67.808 sec\n",
      "___________________\n",
      "Step: 5\n",
      "0.177735961749\n",
      "MSE All: 0.192382\n",
      "MSE Train: 0.354281\n",
      "MSE Test: 0.877572\n",
      "Time: 68.042 sec\n",
      "___________________\n",
      "Step: 6\n",
      "0.187593370521\n",
      "MSE All: 0.172168\n",
      "MSE Train: 0.346092\n",
      "MSE Test: 0.866229\n",
      "Time: 67.658 sec\n",
      "___________________\n",
      "Step: 7\n",
      "0.195184948428\n",
      "MSE All: 0.158109\n",
      "MSE Train: 0.340855\n",
      "MSE Test: 0.859116\n",
      "Time: 67.763 sec\n",
      "___________________\n",
      "Step: 8\n",
      "0.201551404178\n",
      "MSE All: 0.147779\n",
      "MSE Train: 0.337297\n",
      "MSE Test: 0.854433\n",
      "Time: 67.738 sec\n",
      "___________________\n",
      "Step: 9\n",
      "0.207221228111\n",
      "MSE All: 0.139897\n",
      "MSE Train: 0.334756\n",
      "MSE Test: 0.851213\n",
      "Time: 67.754 sec\n"
     ]
    },
    {
     "data": {
      "text/plain": [
       "<__main__.IALS instance at 0x128dfcb90>"
      ]
     },
     "execution_count": 124,
     "metadata": {},
     "output_type": "execute_result"
    }
   ],
   "source": [
    "myIALS3 = IALS(n_iterations=10, n_features=100, penalty=400.0, alpha=40) \n",
    "myIALS3.fit(trainCV.copy(), trainCV_fillna.copy(), user_item.copy())"
   ]
  },
  {
   "cell_type": "code",
   "execution_count": 125,
   "metadata": {
    "collapsed": false
   },
   "outputs": [
    {
     "data": {
      "image/png": "[encoded data removed]",
      "text/plain": [
       "<matplotlib.figure.Figure at 0x11cb25150>"
      ]
     },
     "metadata": {},
     "output_type": "display_data"
    }
   ],
   "source": [
    "plot_MSE([(myIALS.MSE_train, myIALS.MSE_test), (myIALS2.MSE_train, myIALS2.MSE_test), (myIALS3.MSE_train, myIALS3.MSE_test)]).show()"
   ]
  },
  {
   "cell_type": "code",
   "execution_count": 126,
   "metadata": {
    "collapsed": false,
    "scrolled": true
   },
   "outputs": [
    {
     "name": "stdout",
     "output_type": "stream",
     "text": [
      "___________________\n",
      "Step: 0\n",
      "0.348485679971\n",
      "MSE All: 1.078051\n",
      "MSE Train: 1.003213\n",
      "MSE Test: 1.250148\n",
      "Time: 67.574 sec\n",
      "___________________\n",
      "Step: 1\n",
      "0.450842063597\n",
      "MSE All: 0.484041\n",
      "MSE Train: 0.761114\n",
      "MSE Test: 1.024061\n",
      "Time: 67.730 sec\n",
      "___________________\n",
      "Step: 2\n",
      "0.46286595707\n",
      "MSE All: 0.303021\n",
      "MSE Train: 0.665647\n",
      "MSE Test: 0.951902\n",
      "Time: 67.601 sec\n",
      "___________________\n",
      "Step: 3\n",
      "0.473929557852\n",
      "MSE All: 0.218564\n",
      "MSE Train: 0.614682\n",
      "MSE Test: 0.907702\n",
      "Time: 67.690 sec\n",
      "___________________\n",
      "Step: 4\n",
      "0.485968992113\n",
      "MSE All: 0.175526\n",
      "MSE Train: 0.587292\n",
      "MSE Test: 0.882698\n",
      "Time: 67.597 sec\n",
      "___________________\n",
      "Step: 5\n",
      "0.49652237806\n",
      "MSE All: 0.150639\n",
      "MSE Train: 0.572285\n",
      "MSE Test: 0.869010\n",
      "Time: 68.048 sec\n",
      "___________________\n",
      "Step: 6\n",
      "0.505218097147\n",
      "MSE All: 0.134598\n",
      "MSE Train: 0.563462\n",
      "MSE Test: 0.861097\n",
      "Time: 70.724 sec\n",
      "___________________\n",
      "Step: 7\n",
      "0.512429165698\n",
      "MSE All: 0.123463\n",
      "MSE Train: 0.557870\n",
      "MSE Test: 0.856193\n",
      "Time: 73.961 sec\n",
      "___________________\n",
      "Step: 8\n",
      "0.518530184997\n",
      "MSE All: 0.115342\n",
      "MSE Train: 0.554102\n",
      "MSE Test: 0.852970\n",
      "Time: 80.903 sec\n",
      "___________________\n",
      "Step: 9\n",
      "0.523766262455\n",
      "MSE All: 0.109212\n",
      "MSE Train: 0.551440\n",
      "MSE Test: 0.850757\n",
      "Time: 71.000 sec\n"
     ]
    },
    {
     "data": {
      "text/plain": [
       "<__main__.IALS instance at 0x11c81b830>"
      ]
     },
     "execution_count": 126,
     "metadata": {},
     "output_type": "execute_result"
    }
   ],
   "source": [
    "myIALS = IALS(n_iterations=10, n_features=100, penalty=300.0, alpha=20) \n",
    "myIALS.fit(trainCV.copy(), trainCV_fillna.copy(), user_item.copy())"
   ]
  },
  {
   "cell_type": "code",
   "execution_count": 127,
   "metadata": {
    "collapsed": true
   },
   "outputs": [
    {
     "name": "stdout",
     "output_type": "stream",
     "text": [
      "___________________\n",
      "Step: 0\n",
      "0.125443856785\n",
      "MSE All: 1.274378\n",
      "MSE Train: 1.409115\n",
      "MSE Test: 1.506976\n",
      "Time: 68.832 sec\n",
      "___________________\n",
      "Step: 1\n",
      "0.163884977018\n",
      "MSE All: 0.491852\n",
      "MSE Train: 1.061171\n",
      "MSE Test: 1.124116\n",
      "Time: 69.412 sec\n",
      "___________________\n",
      "Step: 2\n",
      "0.17849409997\n",
      "MSE All: 0.306188\n",
      "MSE Train: 0.945894\n",
      "MSE Test: 1.009655\n",
      "Time: 70.277 sec\n",
      "___________________\n",
      "Step: 3\n",
      "0.177983782053\n",
      "MSE All: 0.225518\n",
      "MSE Train: 0.897535\n",
      "MSE Test: 0.963023\n",
      "Time: 70.861 sec\n",
      "___________________\n",
      "Step: 4\n",
      "0.174988075069\n",
      "MSE All: 0.181944\n",
      "MSE Train: 0.872042\n",
      "MSE Test: 0.939096\n",
      "Time: 68.076 sec\n",
      "___________________\n",
      "Step: 5\n",
      "0.172391383252\n",
      "MSE All: 0.155673\n",
      "MSE Train: 0.856941\n",
      "MSE Test: 0.925269\n",
      "Time: 69.069 sec\n",
      "___________________\n",
      "Step: 6\n",
      "0.170556129987\n",
      "MSE All: 0.138659\n",
      "MSE Train: 0.847383\n",
      "MSE Test: 0.916693\n",
      "Time: 69.104 sec\n",
      "___________________\n",
      "Step: 7\n",
      "0.169322439064\n",
      "MSE All: 0.127063\n",
      "MSE Train: 0.841052\n",
      "MSE Test: 0.911113\n",
      "Time: 70.827 sec\n",
      "___________________\n",
      "Step: 8\n",
      "0.168504956725\n",
      "MSE All: 0.118850\n",
      "MSE Train: 0.836707\n",
      "MSE Test: 0.907344\n",
      "Time: 68.046 sec\n",
      "___________________\n",
      "Step: 9\n",
      "0.167972458472\n",
      "MSE All: 0.112859\n",
      "MSE Train: 0.833633\n",
      "MSE Test: 0.904720\n",
      "Time: 67.954 sec\n"
     ]
    },
    {
     "data": {
      "text/plain": [
       "<__main__.IALS instance at 0x11cd41878>"
      ]
     },
     "execution_count": 127,
     "metadata": {},
     "output_type": "execute_result"
    }
   ],
   "source": [
    "myIALS2 = IALS(n_iterations=10, n_features=100, penalty=300.0, alpha=10) \n",
    "myIALS2.fit(trainCV.copy(), trainCV_fillna.copy(), user_item.copy())"
   ]
  },
  {
   "cell_type": "code",
   "execution_count": 128,
   "metadata": {
    "collapsed": false,
    "scrolled": true
   },
   "outputs": [
    {
     "data": {
      "image/png": "[encoded data removed]",
      "text/plain": [
       "<matplotlib.figure.Figure at 0x11cb25bd0>"
      ]
     },
     "metadata": {},
     "output_type": "display_data"
    }
   ],
   "source": [
    "plot_MSE([(myIALS.MSE_train, myIALS.MSE_test), (myIALS2.MSE_train, myIALS2.MSE_test)]).show()"
   ]
  },
  {
   "cell_type": "code",
   "execution_count": 129,
   "metadata": {
    "collapsed": false,
    "scrolled": true
   },
   "outputs": [
    {
     "name": "stdout",
     "output_type": "stream",
     "text": [
      "___________________\n",
      "Step: 0\n",
      "-0.0820487384737\n",
      "MSE All: 1.649174\n",
      "MSE Train: 0.765630\n",
      "MSE Test: 1.350897\n",
      "Time: 91.073 sec\n",
      "___________________\n",
      "Step: 1\n",
      "0.0258442849087\n",
      "MSE All: 0.555035\n",
      "MSE Train: 0.419817\n",
      "MSE Test: 1.043856\n",
      "Time: 91.645 sec\n",
      "___________________\n",
      "Step: 2\n",
      "0.0908788764889\n",
      "MSE All: 0.312974\n",
      "MSE Train: 0.339245\n",
      "MSE Test: 0.964481\n",
      "Time: 91.940 sec\n",
      "___________________\n",
      "Step: 3\n",
      "0.101251313018\n",
      "MSE All: 0.229085\n",
      "MSE Train: 0.308605\n",
      "MSE Test: 0.920827\n",
      "Time: 100.443 sec\n",
      "___________________\n",
      "Step: 4\n",
      "0.0958600927546\n",
      "MSE All: 0.188348\n",
      "MSE Train: 0.293110\n",
      "MSE Test: 0.895238\n",
      "Time: 101.461 sec\n",
      "___________________\n",
      "Step: 5\n",
      "0.0867342131122\n",
      "MSE All: 0.164241\n",
      "MSE Train: 0.284214\n",
      "MSE Test: 0.879268\n",
      "Time: 104.275 sec\n",
      "___________________\n",
      "Step: 6\n",
      "0.0779480476152\n",
      "MSE All: 0.148273\n",
      "MSE Train: 0.278763\n",
      "MSE Test: 0.868970\n",
      "Time: 92.170 sec\n",
      "___________________\n",
      "Step: 7\n",
      "0.0705459621517\n",
      "MSE All: 0.136901\n",
      "MSE Train: 0.275233\n",
      "MSE Test: 0.862143\n",
      "Time: 93.308 sec\n",
      "___________________\n",
      "Step: 8\n",
      "0.0646143394867\n",
      "MSE All: 0.128398\n",
      "MSE Train: 0.272832\n",
      "MSE Test: 0.857494\n",
      "Time: 95.002 sec\n",
      "___________________\n",
      "Step: 9\n",
      "0.0599781686914\n",
      "MSE All: 0.121817\n",
      "MSE Train: 0.271127\n",
      "MSE Test: 0.854245\n",
      "Time: 93.377 sec\n"
     ]
    },
    {
     "data": {
      "text/plain": [
       "<__main__.IALS instance at 0x11c83a950>"
      ]
     },
     "execution_count": 129,
     "metadata": {},
     "output_type": "execute_result"
    }
   ],
   "source": [
    "myIALS = IALS(n_iterations=10, n_features=150, penalty=350.0, alpha=40) \n",
    "myIALS.fit(trainCV.copy(), trainCV_fillna.copy(), user_item.copy())"
   ]
  },
  {
   "cell_type": "code",
   "execution_count": 130,
   "metadata": {
    "collapsed": false,
    "scrolled": true
   },
   "outputs": [
    {
     "name": "stdout",
     "output_type": "stream",
     "text": [
      "___________________\n",
      "Step: 0\n",
      "0.155696400302\n",
      "MSE All: 0.722936\n",
      "MSE Train: 0.699102\n",
      "MSE Test: 1.057543\n",
      "Time: 58.784 sec\n",
      "___________________\n",
      "Step: 1\n",
      "0.16184232323\n",
      "MSE All: 0.427901\n",
      "MSE Train: 0.447592\n",
      "MSE Test: 0.970185\n",
      "Time: 58.937 sec\n",
      "___________________\n",
      "Step: 2\n",
      "0.168664750644\n",
      "MSE All: 0.309785\n",
      "MSE Train: 0.381460\n",
      "MSE Test: 0.952502\n",
      "Time: 59.793 sec\n",
      "___________________\n",
      "Step: 3\n",
      "0.136948643524\n",
      "MSE All: 0.239396\n",
      "MSE Train: 0.350836\n",
      "MSE Test: 0.930685\n",
      "Time: 57.560 sec\n",
      "___________________\n",
      "Step: 4\n",
      "0.108079907146\n",
      "MSE All: 0.198056\n",
      "MSE Train: 0.331879\n",
      "MSE Test: 0.909397\n",
      "Time: 58.164 sec\n",
      "___________________\n",
      "Step: 5\n",
      "0.0873481565201\n",
      "MSE All: 0.172645\n",
      "MSE Train: 0.319871\n",
      "MSE Test: 0.893560\n",
      "Time: 58.452 sec\n",
      "___________________\n",
      "Step: 6\n",
      "0.0713135915266\n",
      "MSE All: 0.155795\n",
      "MSE Train: 0.312141\n",
      "MSE Test: 0.882833\n",
      "Time: 65.462 sec\n",
      "___________________\n",
      "Step: 7\n",
      "0.0571243217022\n",
      "MSE All: 0.143859\n",
      "MSE Train: 0.306963\n",
      "MSE Test: 0.875689\n",
      "Time: 66.153 sec\n",
      "___________________\n",
      "Step: 8\n",
      "0.0432243911144\n",
      "MSE All: 0.134981\n",
      "MSE Train: 0.303341\n",
      "MSE Test: 0.870889\n",
      "Time: 63.814 sec\n",
      "___________________\n",
      "Step: 9\n",
      "0.0291191873949\n",
      "MSE All: 0.128139\n",
      "MSE Train: 0.300708\n",
      "MSE Test: 0.867602\n",
      "Time: 60.492 sec\n"
     ]
    },
    {
     "data": {
      "text/plain": [
       "<__main__.IALS instance at 0x11cd84638>"
      ]
     },
     "execution_count": 130,
     "metadata": {},
     "output_type": "execute_result"
    }
   ],
   "source": [
    "myIALS2 = IALS(n_iterations=10, n_features=70, penalty=350.0, alpha=40) \n",
    "myIALS2.fit(trainCV.copy(), trainCV_fillna.copy(), user_item.copy())"
   ]
  },
  {
   "cell_type": "code",
   "execution_count": 131,
   "metadata": {
    "collapsed": false
   },
   "outputs": [
    {
     "data": {
      "image/png": "[encoded data removed]",
      "text/plain": [
       "<matplotlib.figure.Figure at 0x11ec75910>"
      ]
     },
     "metadata": {},
     "output_type": "display_data"
    }
   ],
   "source": [
    "plot_MSE([(myIALS.MSE_train, myIALS.MSE_test), (myIALS2.MSE_train, myIALS2.MSE_test)]).show()"
   ]
  },
  {
   "cell_type": "code",
   "execution_count": 29,
   "metadata": {
    "collapsed": true
   },
   "outputs": [
    {
     "name": "stdout",
     "output_type": "stream",
     "text": [
      "___________________\n",
      "Step: 0\n",
      "MSE All: 1.686152\n",
      "MSE Train: 0.593390\n",
      "MSE Test: 1.292518\n",
      "Time: 91.687 sec\n",
      "___________________\n",
      "Step: 1\n",
      "MSE All: 0.535091\n",
      "MSE Train: 0.309268\n",
      "MSE Test: 1.008434\n",
      "Time: 90.758 sec\n",
      "___________________\n",
      "Step: 2\n",
      "MSE All: 0.321528\n",
      "MSE Train: 0.246629\n",
      "MSE Test: 0.949451\n",
      "Time: 91.569 sec\n",
      "___________________\n",
      "Step: 3\n",
      "MSE All: 0.244882\n",
      "MSE Train: 0.225698\n",
      "MSE Test: 0.914064\n",
      "Time: 93.738 sec\n",
      "___________________\n",
      "Step: 4\n",
      "MSE All: 0.204739\n",
      "MSE Train: 0.215230\n",
      "MSE Test: 0.890715\n",
      "Time: 93.520 sec\n",
      "___________________\n",
      "Step: 5\n",
      "MSE All: 0.179892\n",
      "MSE Train: 0.209185\n",
      "MSE Test: 0.874971\n",
      "Time: 96.099 sec\n",
      "___________________\n",
      "Step: 6\n",
      "MSE All: 0.162985\n",
      "MSE Train: 0.205439\n",
      "MSE Test: 0.864190\n",
      "Time: 104.949 sec\n",
      "___________________\n",
      "Step: 7\n",
      "MSE All: 0.150734\n",
      "MSE Train: 0.203001\n",
      "MSE Test: 0.856696\n",
      "Time: 102.169 sec\n",
      "___________________\n",
      "Step: 8\n",
      "MSE All: 0.141457\n",
      "MSE Train: 0.201350\n",
      "MSE Test: 0.851402\n",
      "Time: 100.899 sec\n",
      "___________________\n",
      "Step: 9\n",
      "MSE All: 0.134202\n",
      "MSE Train: 0.200195\n",
      "MSE Test: 0.847599\n",
      "Time: 92.049 sec\n",
      "___________________\n",
      "Step: 10\n",
      "MSE All: 0.128389\n",
      "MSE Train: 0.199362\n",
      "MSE Test: 0.844820\n",
      "Time: 99.331 sec\n",
      "___________________\n",
      "Step: 11\n",
      "MSE All: 0.123642\n",
      "MSE Train: 0.198747\n",
      "MSE Test: 0.842756\n",
      "Time: 101.145 sec\n",
      "___________________\n",
      "Step: 12\n",
      "MSE All: 0.119709\n",
      "MSE Train: 0.198281\n",
      "MSE Test: 0.841199\n",
      "Time: 91.767 sec\n",
      "___________________\n",
      "Step: 13\n",
      "MSE All: 0.116410\n",
      "MSE Train: 0.197921\n",
      "MSE Test: 0.840010\n",
      "Time: 94.671 sec\n",
      "___________________\n",
      "Step: 14\n",
      "MSE All: 0.113615\n",
      "MSE Train: 0.197638\n",
      "MSE Test: 0.839090\n",
      "Time: 98.270 sec\n",
      "___________________\n",
      "Step: 15\n",
      "MSE All: 0.111229\n",
      "MSE Train: 0.197413\n",
      "MSE Test: 0.838372\n",
      "Time: 98.862 sec\n",
      "___________________\n",
      "Step: 16\n",
      "MSE All: 0.109176\n",
      "MSE Train: 0.197231\n",
      "MSE Test: 0.837805\n",
      "Time: 97.067 sec\n",
      "___________________\n",
      "Step: 17\n",
      "MSE All: 0.107400\n",
      "MSE Train: 0.197082\n",
      "MSE Test: 0.837356\n",
      "Time: 123.210 sec\n",
      "___________________\n",
      "Step: 18\n",
      "MSE All: 0.105855\n",
      "MSE Train: 0.196960\n",
      "MSE Test: 0.836998\n",
      "Time: 99.856 sec\n",
      "___________________\n",
      "Step: 19\n",
      "MSE All: 0.104505\n",
      "MSE Train: 0.196857\n",
      "MSE Test: 0.836710\n",
      "Time: 94.010 sec\n",
      "___________________\n",
      "Step: 20\n",
      "MSE All: 0.103321\n",
      "MSE Train: 0.196771\n",
      "MSE Test: 0.836479\n",
      "Time: 110.333 sec\n",
      "___________________\n",
      "Step: 21\n",
      "MSE All: 0.102278\n",
      "MSE Train: 0.196699\n",
      "MSE Test: 0.836292\n",
      "Time: 101.526 sec\n",
      "___________________\n",
      "Step: 22\n",
      "MSE All: 0.101357\n",
      "MSE Train: 0.196637\n",
      "MSE Test: 0.836141\n",
      "Time: 107.268 sec\n",
      "___________________\n",
      "Step: 23\n",
      "MSE All: 0.100541\n",
      "MSE Train: 0.196585\n",
      "MSE Test: 0.836018\n",
      "Time: 106.735 sec\n",
      "___________________\n",
      "Step: 24\n",
      "MSE All: 0.099815\n",
      "MSE Train: 0.196539\n",
      "MSE Test: 0.835919\n",
      "Time: 103.501 sec\n",
      "___________________\n",
      "Step: 25\n",
      "MSE All: 0.099170\n",
      "MSE Train: 0.196500\n",
      "MSE Test: 0.835838\n",
      "Time: 97.733 sec\n",
      "___________________\n",
      "Step: 26\n",
      "MSE All: 0.098593\n",
      "MSE Train: 0.196466\n",
      "MSE Test: 0.835772\n",
      "Time: 94.249 sec\n",
      "___________________\n",
      "Step: 27\n",
      "MSE All: 0.098077\n",
      "MSE Train: 0.196437\n",
      "MSE Test: 0.835719\n",
      "Time: 92.756 sec\n",
      "___________________\n",
      "Step: 28\n",
      "MSE All: 0.097615\n",
      "MSE Train: 0.196411\n",
      "MSE Test: 0.835676\n",
      "Time: 96.202 sec\n",
      "___________________\n",
      "Step: 29\n",
      "MSE All: 0.097200\n",
      "MSE Train: 0.196388\n",
      "MSE Test: 0.835641\n",
      "Time: 96.772 sec\n"
     ]
    },
    {
     "data": {
      "text/plain": [
       "<__main__.IALS instance at 0x10e6ded40>"
      ]
     },
     "execution_count": 29,
     "metadata": {},
     "output_type": "execute_result"
    }
   ],
   "source": [
    "# Больше 5\n",
    "myIALS = IALS(n_iterations=30, n_features=150, penalty=400.0, alpha=40) \n",
    "myIALS.fit(trainCV.copy(), trainCV_fillna.copy(), user_item.copy())"
   ]
  },
  {
   "cell_type": "code",
   "execution_count": 74,
   "metadata": {
    "collapsed": false,
    "scrolled": true
   },
   "outputs": [
    {
     "name": "stdout",
     "output_type": "stream",
     "text": [
      "___________________\n",
      "Step: 0\n",
      "MSE All: 0.571634\n",
      "MSE Train: 0.739338\n",
      "MSE Test: 1.078612\n",
      "Time: 93.094 sec\n",
      "___________________\n",
      "Step: 1\n",
      "MSE All: 0.227150\n",
      "MSE Train: 0.472406\n",
      "MSE Test: 0.941804\n",
      "Time: 98.521 sec\n",
      "___________________\n",
      "Step: 2\n",
      "MSE All: 0.147922\n",
      "MSE Train: 0.413312\n",
      "MSE Test: 0.924040\n",
      "Time: 96.745 sec\n",
      "___________________\n",
      "Step: 3\n",
      "MSE All: 0.108417\n",
      "MSE Train: 0.387081\n",
      "MSE Test: 0.900597\n",
      "Time: 94.784 sec\n",
      "___________________\n",
      "Step: 4\n",
      "MSE All: 0.086890\n",
      "MSE Train: 0.371608\n",
      "MSE Test: 0.880375\n",
      "Time: 102.787 sec\n",
      "___________________\n",
      "Step: 5\n",
      "MSE All: 0.074366\n",
      "MSE Train: 0.362698\n",
      "MSE Test: 0.867459\n",
      "Time: 101.510 sec\n",
      "___________________\n",
      "Step: 6\n",
      "MSE All: 0.066341\n",
      "MSE Train: 0.357484\n",
      "MSE Test: 0.859567\n",
      "Time: 96.113 sec\n",
      "___________________\n",
      "Step: 7\n",
      "MSE All: 0.060788\n",
      "MSE Train: 0.354264\n",
      "MSE Test: 0.854585\n",
      "Time: 96.771 sec\n",
      "___________________\n",
      "Step: 8\n",
      "MSE All: 0.056728\n",
      "MSE Train: 0.352168\n",
      "MSE Test: 0.851298\n",
      "Time: 95.464 sec\n",
      "___________________\n",
      "Step: 9\n",
      "MSE All: 0.053640\n",
      "MSE Train: 0.350743\n",
      "MSE Test: 0.849041\n",
      "Time: 100.339 sec\n"
     ]
    },
    {
     "data": {
      "text/plain": [
       "<__main__.IALS instance at 0x1044a8d88>"
      ]
     },
     "execution_count": 74,
     "metadata": {},
     "output_type": "execute_result"
    }
   ],
   "source": [
    "# Больше 5 + log количества оценок\n",
    "myIALS = IALS(n_iterations=10, n_features=150, penalty=600.0, alpha=40) \n",
    "myIALS.fit(trainCV.copy(), trainCV_fillna.copy(), trainCV_count_log.copy(), user_item.copy())"
   ]
  },
  {
   "cell_type": "code",
   "execution_count": null,
   "metadata": {
    "collapsed": false,
    "scrolled": true
   },
   "outputs": [
    {
     "name": "stdout",
     "output_type": "stream",
     "text": [
      "___________________\n",
      "Step: 0\n",
      "MSE All: 0.128984\n",
      "MSE Train: 0.329147\n",
      "MSE Test: 1.117404\n",
      "Time: 46.525 sec\n"
     ]
    }
   ],
   "source": [
    "# Больше 5 * 10 + log количества оценок * [1,0]\n",
    "myIALS = IALS(n_iterations=5, n_features=50, alpha=20, penalty=0.5) \n",
    "myIALS.fit(trainCV.copy(), trainCV_fillna.copy(), trainCV_count_log.copy(), user_item.copy())"
   ]
  },
  {
   "cell_type": "code",
   "execution_count": 32,
   "metadata": {
    "collapsed": false,
    "scrolled": true
   },
   "outputs": [
    {
     "name": "stdout",
     "output_type": "stream",
     "text": [
      "___________________\n",
      "Step: 0\n",
      "MSE All: 0.103950\n",
      "MSE Train: 0.718955\n",
      "MSE Test: 0.848396\n",
      "Time: 31.928 sec\n",
      "___________________\n",
      "Step: 1\n",
      "MSE All: 0.106867\n",
      "MSE Train: 0.716114\n",
      "MSE Test: 0.847661\n",
      "Time: 31.305 sec\n",
      "___________________\n",
      "Step: 2\n",
      "MSE All: 0.107793\n",
      "MSE Train: 0.715507\n",
      "MSE Test: 0.847405\n",
      "Time: 30.486 sec\n"
     ]
    },
    {
     "data": {
      "text/plain": [
       "<__main__.IALS instance at 0x10b7177a0>"
      ]
     },
     "execution_count": 32,
     "metadata": {},
     "output_type": "execute_result"
    }
   ],
   "source": [
    "myIALS.fit(trainCV.copy(), trainCV_fillna.copy(), trainCV_count_log.copy(), user_item.copy(), add=True, new_n_iteration=3, new_alpha=50, new_penalty=1)\n"
   ]
  },
  {
   "cell_type": "code",
   "execution_count": null,
   "metadata": {
    "collapsed": false
   },
   "outputs": [
    {
     "name": "stdout",
     "output_type": "stream",
     "text": [
      "___________________\n",
      "Step: 0\n",
      "MSE All: 0.197176\n",
      "MSE Train: 0.697210\n",
      "MSE Test: 0.855136\n",
      "Time: 29.368 sec\n",
      "___________________\n",
      "Step: 1\n",
      "MSE All: 0.204604\n",
      "MSE Train: 0.695864\n",
      "MSE Test: 0.854978\n",
      "Time: 29.252 sec\n"
     ]
    }
   ],
   "source": [
    "myIALS.fit(trainCV.copy(), trainCV_fillna.copy(), trainCV_count_log.copy(), user_item.copy(), add=True, new_n_iteration=3, new_alpha=200, new_penalty=2000)\n"
   ]
  },
  {
   "cell_type": "code",
   "execution_count": 44,
   "metadata": {
    "collapsed": false,
    "scrolled": true
   },
   "outputs": [
    {
     "name": "stdout",
     "output_type": "stream",
     "text": [
      "___________________\n",
      "Step: 0\n",
      "MSE All: 0.167174\n",
      "MSE Train: 0.567111\n",
      "MSE Test: 0.824107\n",
      "Time: 95.219 sec\n",
      "___________________\n",
      "Step: 1\n",
      "MSE All: 0.164158\n",
      "MSE Train: 0.552722\n",
      "MSE Test: 0.825391\n",
      "Time: 91.763 sec\n",
      "___________________\n",
      "Step: 2\n",
      "MSE All: 0.161913\n",
      "MSE Train: 0.540347\n",
      "MSE Test: 0.826444\n",
      "Time: 91.550 sec\n"
     ]
    },
    {
     "ename": "KeyboardInterrupt",
     "evalue": "",
     "output_type": "error",
     "traceback": [
      "\u001b[0;31m---------------------------------------------------------------------------\u001b[0m",
      "\u001b[0;31mKeyboardInterrupt\u001b[0m                         Traceback (most recent call last)",
      "\u001b[0;32m<ipython-input-44-0c147243de02>\u001b[0m in \u001b[0;36m<module>\u001b[0;34m()\u001b[0m\n\u001b[0;32m----> 1\u001b[0;31m \u001b[0mmyIALS\u001b[0m\u001b[0;34m.\u001b[0m\u001b[0mfit\u001b[0m\u001b[0;34m(\u001b[0m\u001b[0mtrainCV\u001b[0m\u001b[0;34m.\u001b[0m\u001b[0mcopy\u001b[0m\u001b[0;34m(\u001b[0m\u001b[0;34m)\u001b[0m\u001b[0;34m,\u001b[0m \u001b[0mtrainCV_fillna\u001b[0m\u001b[0;34m.\u001b[0m\u001b[0mcopy\u001b[0m\u001b[0;34m(\u001b[0m\u001b[0;34m)\u001b[0m\u001b[0;34m,\u001b[0m \u001b[0mtrainCV_count_log\u001b[0m\u001b[0;34m.\u001b[0m\u001b[0mcopy\u001b[0m\u001b[0;34m(\u001b[0m\u001b[0;34m)\u001b[0m\u001b[0;34m,\u001b[0m \u001b[0muser_item\u001b[0m\u001b[0;34m.\u001b[0m\u001b[0mcopy\u001b[0m\u001b[0;34m(\u001b[0m\u001b[0;34m)\u001b[0m\u001b[0;34m,\u001b[0m \u001b[0madd\u001b[0m\u001b[0;34m=\u001b[0m\u001b[0mTrue\u001b[0m\u001b[0;34m,\u001b[0m \u001b[0mnew_n_iteration\u001b[0m\u001b[0;34m=\u001b[0m\u001b[0;36m5\u001b[0m\u001b[0;34m,\u001b[0m \u001b[0mnew_alpha\u001b[0m\u001b[0;34m=\u001b[0m\u001b[0;36m40\u001b[0m\u001b[0;34m,\u001b[0m \u001b[0mnew_penalty\u001b[0m\u001b[0;34m=\u001b[0m\u001b[0;36m550\u001b[0m\u001b[0;34m)\u001b[0m\u001b[0;34m\u001b[0m\u001b[0m\n\u001b[0m",
      "\u001b[0;32m<ipython-input-18-484f1c527c97>\u001b[0m in \u001b[0;36mfit\u001b[0;34m(self, data_table, data_table_fillna, data_table_count_log, original, add, new_alpha, new_n_iteration, new_penalty)\u001b[0m\n\u001b[1;32m     71\u001b[0m \u001b[0;31m#                 tmp = tmp + self.penalty * tmp.mean() * np.eye(self.n_features)\u001b[0m\u001b[0;34m\u001b[0m\u001b[0;34m\u001b[0m\u001b[0m\n\u001b[1;32m     72\u001b[0m                 \u001b[0mtmp\u001b[0m \u001b[0;34m=\u001b[0m \u001b[0mnp\u001b[0m\u001b[0;34m.\u001b[0m\u001b[0mlinalg\u001b[0m\u001b[0;34m.\u001b[0m\u001b[0minv\u001b[0m\u001b[0;34m(\u001b[0m\u001b[0mtmp\u001b[0m\u001b[0;34m)\u001b[0m\u001b[0;34m\u001b[0m\u001b[0m\n\u001b[0;32m---> 73\u001b[0;31m                 \u001b[0mtmp\u001b[0m \u001b[0;34m=\u001b[0m \u001b[0mnp\u001b[0m\u001b[0;34m.\u001b[0m\u001b[0mdot\u001b[0m\u001b[0;34m(\u001b[0m\u001b[0mnp\u001b[0m\u001b[0;34m.\u001b[0m\u001b[0mdot\u001b[0m\u001b[0;34m(\u001b[0m\u001b[0mtmp\u001b[0m\u001b[0;34m,\u001b[0m \u001b[0mX\u001b[0m\u001b[0;34m.\u001b[0m\u001b[0mT\u001b[0m\u001b[0;34m)\u001b[0m\u001b[0;34m,\u001b[0m \u001b[0mnp\u001b[0m\u001b[0;34m.\u001b[0m\u001b[0mdiag\u001b[0m\u001b[0;34m(\u001b[0m\u001b[0mC\u001b[0m\u001b[0;34m[\u001b[0m\u001b[0;34m:\u001b[0m\u001b[0;34m,\u001b[0m \u001b[0mitem\u001b[0m\u001b[0;34m]\u001b[0m\u001b[0;34m)\u001b[0m\u001b[0;34m)\u001b[0m\u001b[0;34m\u001b[0m\u001b[0m\n\u001b[0m\u001b[1;32m     74\u001b[0m                 \u001b[0mtmp\u001b[0m \u001b[0;34m=\u001b[0m \u001b[0mnp\u001b[0m\u001b[0;34m.\u001b[0m\u001b[0mdot\u001b[0m\u001b[0;34m(\u001b[0m\u001b[0mtmp\u001b[0m\u001b[0;34m,\u001b[0m \u001b[0mdata_table_fillna\u001b[0m\u001b[0;34m[\u001b[0m\u001b[0;34m:\u001b[0m\u001b[0;34m,\u001b[0m \u001b[0mitem\u001b[0m\u001b[0;34m]\u001b[0m\u001b[0;34m)\u001b[0m\u001b[0;34m\u001b[0m\u001b[0m\n\u001b[1;32m     75\u001b[0m                 \u001b[0mY\u001b[0m\u001b[0;34m[\u001b[0m\u001b[0mitem\u001b[0m\u001b[0;34m]\u001b[0m \u001b[0;34m=\u001b[0m \u001b[0mtmp\u001b[0m\u001b[0;34m\u001b[0m\u001b[0m\n",
      "\u001b[0;31mKeyboardInterrupt\u001b[0m: "
     ]
    }
   ],
   "source": [
    "myIALS.fit(trainCV.copy(), trainCV_fillna.copy(), trainCV_count_log.copy(), user_item.copy(), add=True, new_n_iteration=5, new_alpha=40, new_penalty=550)\n"
   ]
  },
  {
   "cell_type": "code",
   "execution_count": null,
   "metadata": {
    "collapsed": false,
    "scrolled": true
   },
   "outputs": [],
   "source": [
    "myIALS.fit(trainCV.copy(), trainCV_fillna.copy(), trainCV_count_log.copy(), user_item.copy(), add=True, new_alpha=100, new_penalty=1600)"
   ]
  },
  {
   "cell_type": "markdown",
   "metadata": {},
   "source": [
    "### Предсказание теста"
   ]
  },
  {
   "cell_type": "code",
   "execution_count": 18,
   "metadata": {
    "collapsed": true
   },
   "outputs": [],
   "source": [
    "user_item_fillna = fillzero2mean(user_item.copy())"
   ]
  },
  {
   "cell_type": "code",
   "execution_count": 21,
   "metadata": {
    "collapsed": false
   },
   "outputs": [],
   "source": [
    "class IALS2():\n",
    "    def __init__(self, n_iterations=20, n_features=100, penalty=0.001, alpha=40):\n",
    "        self.n_iterations = n_iterations\n",
    "        self.n_features = n_features\n",
    "        self.penalty = penalty\n",
    "        self.alpha = alpha\n",
    "        \n",
    "    def fit(self, data_table, data_table_fillna):\n",
    "        self.X = []\n",
    "        self.Y = []\n",
    "        \n",
    "#         self.MSE_train = []\n",
    "#         self.MSE_test = []\n",
    "\n",
    "        \n",
    "        X = np.random.rand(data_table.shape[0], self.n_features)  # -- m x f\n",
    "        Y = np.random.rand(data_table.shape[1], self.n_features)  # -- n x f\n",
    "        C = 1.0 + self.alpha * (data_table > 0).astype(float) # -- weights Cu \n",
    "#         C = 1 + self.alpha * user_item\n",
    "        C_I = C - np.ones(C.shape) # -- Cu - I array\n",
    "        lambdaI = self.penalty  * np.eye(self.n_features)\n",
    "        \n",
    "        last_time = time.time()\n",
    "        for stage in xrange(self.n_iterations):\n",
    "            \n",
    "            # -- X^T Ci X = X^T X + X^T (Ci - I) X\n",
    "            # -- X^T X - independent on user\n",
    "            \n",
    "            # -- Y^T Cu Y = Y^T Y + Y^T (Cu - I) Y\n",
    "            # -- Y^T Y - independent on user\n",
    "            \n",
    "            YTY = np.dot(Y.T, Y)\n",
    "            \n",
    "#             tmpX = np.zeros(X.shape)\n",
    "#             tmpY = np.zeros(Y.shape)\n",
    "            \n",
    "            for user in xrange(data_table.shape[0]):\n",
    "                tmp = YTY.copy()\n",
    "                tmp = tmp + np.dot(np.dot(Y.T, np.diag(C_I[user])), Y)  # -- Y^T (Cu - I) Y\n",
    "#                 tmp = np.dot(np.dot(Y.T, np.diag(C[user])), Y)\n",
    "                tmp = tmp + lambdaI\n",
    "#                 tmp = tmp + self.penalty * tmp.mean() * np.eye(self.n_features)\n",
    "                tmp = np.linalg.inv(tmp)\n",
    "                tmp = np.dot(np.dot(tmp, Y.T), np.diag(C[user]))\n",
    "                tmp = np.dot(tmp, data_table_fillna[user])\n",
    "                X[user] = tmp\n",
    "                \n",
    "            XTX = np.dot(X.T, X)\n",
    "            \n",
    "            for item in xrange(data_table.shape[1]):\n",
    "                tmp = XTX.copy()\n",
    "                tmp = tmp + np.dot(np.dot(X.T, np.diag(C_I[:, item])), X)  # -- X^T (Cu - I) X\n",
    "#                 tmp = np.dot(np.dot(X.T, np.diag(C[:, item])), X)\n",
    "                tmp = tmp + lambdaI\n",
    "#                 tmp = tmp + self.penalty * tmp.mean() * np.eye(self.n_features)\n",
    "                tmp = np.linalg.inv(tmp)\n",
    "                tmp = np.dot(np.dot(tmp, X.T), np.diag(C[:, item]))\n",
    "                tmp = np.dot(tmp, data_table_fillna[:, item])\n",
    "                Y[item] = tmp\n",
    "                \n",
    "#             X = tmpX.copy()\n",
    "#             Y = tmpY.copy()\n",
    "            print '___________________'\n",
    "            print \"Step: %d\" %stage\n",
    "#             print X[0][0]\n",
    "#             predicted = np.dot(X, Y.T)\n",
    "#             print \"MSE All: %f\" %mean_squared_error(predicted, data_table_fillna)\n",
    "#             mse_train = MSE(train_pairs, predicted, original)\n",
    "#             self.MSE_train.append(mse_train)\n",
    "#             print \"MSE Train: %f\" %mse_train            \n",
    "#             mse_test = MSE(testCV, predicted, original)\n",
    "#             self.MSE_test.append(mse_test)\n",
    "#             print \"MSE Test: %f\" %mse_test\n",
    "            print \"Time: {:.3f} sec\".format(time.time() - last_time)\n",
    "            last_time = time.time()\n",
    "            \n",
    "        self.X.append(X.copy())\n",
    "        self.Y.append(Y.copy())\n",
    "        \n",
    "        return self\n",
    "    \n",
    "    def predict(self):\n",
    "        return np.dot(self.X[-1], self.Y[-1].T)\n",
    "        \n",
    "        "
   ]
  },
  {
   "cell_type": "code",
   "execution_count": 22,
   "metadata": {
    "collapsed": false
   },
   "outputs": [
    {
     "name": "stdout",
     "output_type": "stream",
     "text": [
      "___________________\n",
      "Step: 0\n",
      "Time: 172.745 sec\n",
      "___________________\n",
      "Step: 1\n",
      "Time: 173.154 sec\n",
      "___________________\n",
      "Step: 2\n",
      "Time: 172.868 sec\n",
      "___________________\n",
      "Step: 3\n",
      "Time: 174.740 sec\n",
      "___________________\n",
      "Step: 4\n",
      "Time: 173.087 sec\n",
      "___________________\n",
      "Step: 5\n",
      "Time: 172.543 sec\n",
      "___________________\n",
      "Step: 6\n",
      "Time: 173.167 sec\n",
      "___________________\n",
      "Step: 7\n",
      "Time: 172.790 sec\n",
      "___________________\n",
      "Step: 8\n",
      "Time: 173.196 sec\n",
      "___________________\n",
      "Step: 9\n",
      "Time: 173.745 sec\n",
      "___________________\n",
      "Step: 10\n",
      "Time: 172.898 sec\n",
      "___________________\n",
      "Step: 11\n",
      "Time: 172.581 sec\n",
      "___________________\n",
      "Step: 12\n",
      "Time: 172.203 sec\n",
      "___________________\n",
      "Step: 13\n",
      "Time: 172.745 sec\n",
      "___________________\n",
      "Step: 14\n",
      "Time: 172.162 sec\n",
      "___________________\n",
      "Step: 15\n",
      "Time: 172.800 sec\n",
      "___________________\n",
      "Step: 16\n",
      "Time: 172.562 sec\n",
      "___________________\n",
      "Step: 17\n",
      "Time: 172.534 sec\n",
      "___________________\n",
      "Step: 18\n",
      "Time: 173.013 sec\n",
      "___________________\n",
      "Step: 19\n",
      "Time: 172.573 sec\n",
      "___________________\n",
      "Step: 20\n",
      "Time: 172.277 sec\n",
      "___________________\n",
      "Step: 21\n",
      "Time: 173.086 sec\n",
      "___________________\n",
      "Step: 22\n",
      "Time: 172.528 sec\n",
      "___________________\n",
      "Step: 23\n",
      "Time: 172.805 sec\n",
      "___________________\n",
      "Step: 24\n",
      "Time: 173.977 sec\n",
      "___________________\n",
      "Step: 25\n",
      "Time: 173.169 sec\n",
      "___________________\n",
      "Step: 26\n",
      "Time: 173.061 sec\n",
      "___________________\n",
      "Step: 27\n",
      "Time: 172.822 sec\n",
      "___________________\n",
      "Step: 28\n",
      "Time: 172.646 sec\n",
      "___________________\n",
      "Step: 29\n",
      "Time: 172.676 sec\n",
      "___________________\n",
      "Step: 30\n",
      "Time: 172.972 sec\n",
      "___________________\n",
      "Step: 31\n",
      "Time: 172.738 sec\n",
      "___________________\n",
      "Step: 32\n",
      "Time: 173.273 sec\n",
      "___________________\n",
      "Step: 33\n",
      "Time: 172.958 sec\n",
      "___________________\n",
      "Step: 34\n",
      "Time: 173.294 sec\n",
      "___________________\n",
      "Step: 35\n",
      "Time: 172.540 sec\n",
      "___________________\n",
      "Step: 36\n",
      "Time: 172.818 sec\n",
      "___________________\n",
      "Step: 37\n",
      "Time: 173.132 sec\n",
      "___________________\n",
      "Step: 38\n",
      "Time: 179.765 sec\n",
      "___________________\n",
      "Step: 39\n",
      "Time: 174.061 sec\n",
      "___________________\n",
      "Step: 40\n",
      "Time: 172.616 sec\n",
      "___________________\n",
      "Step: 41\n",
      "Time: 174.177 sec\n",
      "___________________\n",
      "Step: 42\n",
      "Time: 171.807 sec\n",
      "___________________\n",
      "Step: 43\n",
      "Time: 172.244 sec\n",
      "___________________\n",
      "Step: 44\n",
      "Time: 174.469 sec\n",
      "___________________\n",
      "Step: 45\n",
      "Time: 173.793 sec\n",
      "___________________\n",
      "Step: 46\n",
      "Time: 173.080 sec\n",
      "___________________\n",
      "Step: 47\n",
      "Time: 173.347 sec\n",
      "___________________\n",
      "Step: 48\n",
      "Time: 173.171 sec\n",
      "___________________\n",
      "Step: 49\n",
      "Time: 173.150 sec\n"
     ]
    },
    {
     "data": {
      "text/plain": [
       "<__main__.IALS2 instance at 0x11aa86c20>"
      ]
     },
     "execution_count": 22,
     "metadata": {},
     "output_type": "execute_result"
    }
   ],
   "source": [
    "myIALS2 = IALS2(n_iterations=50, n_features=300, penalty=400.0, alpha=40) \n",
    "myIALS2.fit(user_item.copy(), user_item_fillna.copy())"
   ]
  },
  {
   "cell_type": "code",
   "execution_count": 22,
   "metadata": {
    "collapsed": false
   },
   "outputs": [
    {
     "name": "stdout",
     "output_type": "stream",
     "text": [
      "[[ 5.  3.  4. ...,  0.  0.  0.]\n",
      " [ 4.  0.  0. ...,  0.  0.  0.]\n",
      " [ 0.  0.  0. ...,  0.  0.  0.]\n",
      " ..., \n",
      " [ 5.  0.  0. ...,  0.  0.  0.]\n",
      " [ 0.  0.  0. ...,  0.  0.  0.]\n",
      " [ 0.  5.  0. ...,  0.  0.  0.]]\n"
     ]
    }
   ],
   "source": [
    "print user_item"
   ]
  },
  {
   "cell_type": "code",
   "execution_count": 67,
   "metadata": {
    "collapsed": false
   },
   "outputs": [],
   "source": [
    "predicted_user_item = myIALS.predict()"
   ]
  },
  {
   "cell_type": "code",
   "execution_count": 68,
   "metadata": {
    "collapsed": false
   },
   "outputs": [
    {
     "name": "stdout",
     "output_type": "stream",
     "text": [
      "loser\n",
      "loser\n"
     ]
    }
   ],
   "source": [
    "predict_test = []\n",
    "for item_test in test.values:\n",
    "    if item_test[1] not in itemID_columnID:\n",
    "        print 'loser'\n",
    "        predict_test.append(predicted_user_item[item_test[0] - 1].mean())\n",
    "    else:\n",
    "        tmp_predict = predicted_user_item[item_test[0] - 1][itemID_columnID[item_test[1]]]\n",
    "        if tmp_predict > 5:\n",
    "            tmp_predict = 5.0\n",
    "        elif tmp_predict < 1.0:\n",
    "            tmp_predict = 1.0\n",
    "        predict_test.append(tmp_predict)"
   ]
  },
  {
   "cell_type": "code",
   "execution_count": 69,
   "metadata": {
    "collapsed": false
   },
   "outputs": [],
   "source": [
    "pred = pd.DataFrame({'Id':range(1,len(test)+1), 'Mark':predict_test})\n",
    "pred.to_csv('predict1', index=False)"
   ]
  },
  {
   "cell_type": "code",
   "execution_count": null,
   "metadata": {
    "collapsed": true
   },
   "outputs": [],
   "source": []
  }
 ],
 "metadata": {
  "kernelspec": {
   "display_name": "Python 2",
   "language": "python",
   "name": "python2"
  },
  "language_info": {
   "codemirror_mode": {
    "name": "ipython",
    "version": 2
   },
   "file_extension": ".py",
   "mimetype": "text/x-python",
   "name": "python",
   "nbconvert_exporter": "python",
   "pygments_lexer": "ipython2",
   "version": "2.7.13"
  }
 },
 "nbformat": 4,
 "nbformat_minor": 2
}

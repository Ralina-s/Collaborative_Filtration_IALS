{
 "cells": [
  {
   "cell_type": "code",
   "execution_count": 1,
   "metadata": {
    "collapsed": false
   },
   "outputs": [],
   "source": [
    "import numpy as np \n",
    "import pandas as pd\n",
    "\n",
    "from os.path import join\n",
    "import time\n",
    "import random\n",
    "\n",
    "from sklearn.metrics import mean_squared_error\n",
    "\n",
    "from matplotlib import pylab as plt\n",
    "%matplotlib inline"
   ]
  },
  {
   "cell_type": "markdown",
   "metadata": {},
   "source": [
    "### Загрузка данных"
   ]
  },
  {
   "cell_type": "code",
   "execution_count": 2,
   "metadata": {
    "collapsed": false
   },
   "outputs": [],
   "source": [
    "path_data = './data'\n",
    "train = pd.read_csv(join(path_data, 'train.txt'), names=['user', 'item', 'mark'], header=None, sep='\\t')\n",
    "test = pd.read_csv(join(path_data, 'test.txt'), names=['user', 'item'], header=None, sep='\\t')"
   ]
  },
  {
   "cell_type": "code",
   "execution_count": 23,
   "metadata": {
    "collapsed": false
   },
   "outputs": [
    {
     "data": {
      "text/html": [
       "<div>\n",
       "<table border=\"1\" class=\"dataframe\">\n",
       "  <thead>\n",
       "    <tr style=\"text-align: right;\">\n",
       "      <th></th>\n",
       "      <th>user</th>\n",
       "      <th>item</th>\n",
       "      <th>mark</th>\n",
       "    </tr>\n",
       "  </thead>\n",
       "  <tbody>\n",
       "    <tr>\n",
       "      <th>90565</th>\n",
       "      <td>943</td>\n",
       "      <td>1047</td>\n",
       "      <td>2</td>\n",
       "    </tr>\n",
       "    <tr>\n",
       "      <th>90566</th>\n",
       "      <td>943</td>\n",
       "      <td>1074</td>\n",
       "      <td>4</td>\n",
       "    </tr>\n",
       "    <tr>\n",
       "      <th>90567</th>\n",
       "      <td>943</td>\n",
       "      <td>1188</td>\n",
       "      <td>3</td>\n",
       "    </tr>\n",
       "    <tr>\n",
       "      <th>90568</th>\n",
       "      <td>943</td>\n",
       "      <td>1228</td>\n",
       "      <td>3</td>\n",
       "    </tr>\n",
       "    <tr>\n",
       "      <th>90569</th>\n",
       "      <td>943</td>\n",
       "      <td>1330</td>\n",
       "      <td>3</td>\n",
       "    </tr>\n",
       "  </tbody>\n",
       "</table>\n",
       "</div>"
      ],
      "text/plain": [
       "       user  item  mark\n",
       "90565   943  1047     2\n",
       "90566   943  1074     4\n",
       "90567   943  1188     3\n",
       "90568   943  1228     3\n",
       "90569   943  1330     3"
      ]
     },
     "execution_count": 23,
     "metadata": {},
     "output_type": "execute_result"
    }
   ],
   "source": [
    "train.head()\n",
    "train.tail()"
   ]
  },
  {
   "cell_type": "code",
   "execution_count": 4,
   "metadata": {
    "collapsed": false
   },
   "outputs": [
    {
     "data": {
      "text/html": [
       "<div>\n",
       "<table border=\"1\" class=\"dataframe\">\n",
       "  <thead>\n",
       "    <tr style=\"text-align: right;\">\n",
       "      <th></th>\n",
       "      <th>user</th>\n",
       "      <th>item</th>\n",
       "    </tr>\n",
       "  </thead>\n",
       "  <tbody>\n",
       "    <tr>\n",
       "      <th>0</th>\n",
       "      <td>1</td>\n",
       "      <td>20</td>\n",
       "    </tr>\n",
       "    <tr>\n",
       "      <th>1</th>\n",
       "      <td>1</td>\n",
       "      <td>33</td>\n",
       "    </tr>\n",
       "    <tr>\n",
       "      <th>2</th>\n",
       "      <td>1</td>\n",
       "      <td>61</td>\n",
       "    </tr>\n",
       "    <tr>\n",
       "      <th>3</th>\n",
       "      <td>1</td>\n",
       "      <td>117</td>\n",
       "    </tr>\n",
       "    <tr>\n",
       "      <th>4</th>\n",
       "      <td>1</td>\n",
       "      <td>155</td>\n",
       "    </tr>\n",
       "  </tbody>\n",
       "</table>\n",
       "</div>"
      ],
      "text/plain": [
       "   user  item\n",
       "0     1    20\n",
       "1     1    33\n",
       "2     1    61\n",
       "3     1   117\n",
       "4     1   155"
      ]
     },
     "execution_count": 4,
     "metadata": {},
     "output_type": "execute_result"
    }
   ],
   "source": [
    "test.head()"
   ]
  },
  {
   "cell_type": "markdown",
   "metadata": {},
   "source": [
    "### Парсинг данных"
   ]
  },
  {
   "cell_type": "code",
   "execution_count": 5,
   "metadata": {
    "collapsed": false
   },
   "outputs": [],
   "source": [
    "# -- Составляем основную матрицу user-item\n",
    "user_item_table = train.pivot_table(columns='item', index='user', values='mark').fillna(0)"
   ]
  },
  {
   "cell_type": "code",
   "execution_count": 6,
   "metadata": {
    "collapsed": false
   },
   "outputs": [
    {
     "data": {
      "text/html": [
       "<div>\n",
       "<table border=\"1\" class=\"dataframe\">\n",
       "  <thead>\n",
       "    <tr style=\"text-align: right;\">\n",
       "      <th>item</th>\n",
       "      <th>1</th>\n",
       "      <th>2</th>\n",
       "      <th>3</th>\n",
       "      <th>4</th>\n",
       "      <th>5</th>\n",
       "      <th>6</th>\n",
       "      <th>7</th>\n",
       "      <th>8</th>\n",
       "      <th>9</th>\n",
       "      <th>10</th>\n",
       "      <th>...</th>\n",
       "      <th>1673</th>\n",
       "      <th>1674</th>\n",
       "      <th>1675</th>\n",
       "      <th>1676</th>\n",
       "      <th>1677</th>\n",
       "      <th>1678</th>\n",
       "      <th>1679</th>\n",
       "      <th>1680</th>\n",
       "      <th>1681</th>\n",
       "      <th>1682</th>\n",
       "    </tr>\n",
       "    <tr>\n",
       "      <th>user</th>\n",
       "      <th></th>\n",
       "      <th></th>\n",
       "      <th></th>\n",
       "      <th></th>\n",
       "      <th></th>\n",
       "      <th></th>\n",
       "      <th></th>\n",
       "      <th></th>\n",
       "      <th></th>\n",
       "      <th></th>\n",
       "      <th></th>\n",
       "      <th></th>\n",
       "      <th></th>\n",
       "      <th></th>\n",
       "      <th></th>\n",
       "      <th></th>\n",
       "      <th></th>\n",
       "      <th></th>\n",
       "      <th></th>\n",
       "      <th></th>\n",
       "      <th></th>\n",
       "    </tr>\n",
       "  </thead>\n",
       "  <tbody>\n",
       "    <tr>\n",
       "      <th>1</th>\n",
       "      <td>5.0</td>\n",
       "      <td>3.0</td>\n",
       "      <td>4.0</td>\n",
       "      <td>3.0</td>\n",
       "      <td>3.0</td>\n",
       "      <td>5.0</td>\n",
       "      <td>4.0</td>\n",
       "      <td>1.0</td>\n",
       "      <td>5.0</td>\n",
       "      <td>3.0</td>\n",
       "      <td>...</td>\n",
       "      <td>0.0</td>\n",
       "      <td>0.0</td>\n",
       "      <td>0.0</td>\n",
       "      <td>0.0</td>\n",
       "      <td>0.0</td>\n",
       "      <td>0.0</td>\n",
       "      <td>0.0</td>\n",
       "      <td>0.0</td>\n",
       "      <td>0.0</td>\n",
       "      <td>0.0</td>\n",
       "    </tr>\n",
       "    <tr>\n",
       "      <th>2</th>\n",
       "      <td>4.0</td>\n",
       "      <td>0.0</td>\n",
       "      <td>0.0</td>\n",
       "      <td>0.0</td>\n",
       "      <td>0.0</td>\n",
       "      <td>0.0</td>\n",
       "      <td>0.0</td>\n",
       "      <td>0.0</td>\n",
       "      <td>0.0</td>\n",
       "      <td>2.0</td>\n",
       "      <td>...</td>\n",
       "      <td>0.0</td>\n",
       "      <td>0.0</td>\n",
       "      <td>0.0</td>\n",
       "      <td>0.0</td>\n",
       "      <td>0.0</td>\n",
       "      <td>0.0</td>\n",
       "      <td>0.0</td>\n",
       "      <td>0.0</td>\n",
       "      <td>0.0</td>\n",
       "      <td>0.0</td>\n",
       "    </tr>\n",
       "    <tr>\n",
       "      <th>3</th>\n",
       "      <td>0.0</td>\n",
       "      <td>0.0</td>\n",
       "      <td>0.0</td>\n",
       "      <td>0.0</td>\n",
       "      <td>0.0</td>\n",
       "      <td>0.0</td>\n",
       "      <td>0.0</td>\n",
       "      <td>0.0</td>\n",
       "      <td>0.0</td>\n",
       "      <td>0.0</td>\n",
       "      <td>...</td>\n",
       "      <td>0.0</td>\n",
       "      <td>0.0</td>\n",
       "      <td>0.0</td>\n",
       "      <td>0.0</td>\n",
       "      <td>0.0</td>\n",
       "      <td>0.0</td>\n",
       "      <td>0.0</td>\n",
       "      <td>0.0</td>\n",
       "      <td>0.0</td>\n",
       "      <td>0.0</td>\n",
       "    </tr>\n",
       "    <tr>\n",
       "      <th>4</th>\n",
       "      <td>0.0</td>\n",
       "      <td>0.0</td>\n",
       "      <td>0.0</td>\n",
       "      <td>0.0</td>\n",
       "      <td>0.0</td>\n",
       "      <td>0.0</td>\n",
       "      <td>0.0</td>\n",
       "      <td>0.0</td>\n",
       "      <td>0.0</td>\n",
       "      <td>0.0</td>\n",
       "      <td>...</td>\n",
       "      <td>0.0</td>\n",
       "      <td>0.0</td>\n",
       "      <td>0.0</td>\n",
       "      <td>0.0</td>\n",
       "      <td>0.0</td>\n",
       "      <td>0.0</td>\n",
       "      <td>0.0</td>\n",
       "      <td>0.0</td>\n",
       "      <td>0.0</td>\n",
       "      <td>0.0</td>\n",
       "    </tr>\n",
       "    <tr>\n",
       "      <th>5</th>\n",
       "      <td>0.0</td>\n",
       "      <td>0.0</td>\n",
       "      <td>0.0</td>\n",
       "      <td>0.0</td>\n",
       "      <td>0.0</td>\n",
       "      <td>0.0</td>\n",
       "      <td>0.0</td>\n",
       "      <td>0.0</td>\n",
       "      <td>0.0</td>\n",
       "      <td>0.0</td>\n",
       "      <td>...</td>\n",
       "      <td>0.0</td>\n",
       "      <td>0.0</td>\n",
       "      <td>0.0</td>\n",
       "      <td>0.0</td>\n",
       "      <td>0.0</td>\n",
       "      <td>0.0</td>\n",
       "      <td>0.0</td>\n",
       "      <td>0.0</td>\n",
       "      <td>0.0</td>\n",
       "      <td>0.0</td>\n",
       "    </tr>\n",
       "    <tr>\n",
       "      <th>6</th>\n",
       "      <td>4.0</td>\n",
       "      <td>0.0</td>\n",
       "      <td>0.0</td>\n",
       "      <td>0.0</td>\n",
       "      <td>0.0</td>\n",
       "      <td>0.0</td>\n",
       "      <td>2.0</td>\n",
       "      <td>4.0</td>\n",
       "      <td>4.0</td>\n",
       "      <td>0.0</td>\n",
       "      <td>...</td>\n",
       "      <td>0.0</td>\n",
       "      <td>0.0</td>\n",
       "      <td>0.0</td>\n",
       "      <td>0.0</td>\n",
       "      <td>0.0</td>\n",
       "      <td>0.0</td>\n",
       "      <td>0.0</td>\n",
       "      <td>0.0</td>\n",
       "      <td>0.0</td>\n",
       "      <td>0.0</td>\n",
       "    </tr>\n",
       "    <tr>\n",
       "      <th>7</th>\n",
       "      <td>0.0</td>\n",
       "      <td>0.0</td>\n",
       "      <td>0.0</td>\n",
       "      <td>5.0</td>\n",
       "      <td>0.0</td>\n",
       "      <td>0.0</td>\n",
       "      <td>5.0</td>\n",
       "      <td>5.0</td>\n",
       "      <td>5.0</td>\n",
       "      <td>4.0</td>\n",
       "      <td>...</td>\n",
       "      <td>0.0</td>\n",
       "      <td>0.0</td>\n",
       "      <td>0.0</td>\n",
       "      <td>0.0</td>\n",
       "      <td>0.0</td>\n",
       "      <td>0.0</td>\n",
       "      <td>0.0</td>\n",
       "      <td>0.0</td>\n",
       "      <td>0.0</td>\n",
       "      <td>0.0</td>\n",
       "    </tr>\n",
       "    <tr>\n",
       "      <th>8</th>\n",
       "      <td>0.0</td>\n",
       "      <td>0.0</td>\n",
       "      <td>0.0</td>\n",
       "      <td>0.0</td>\n",
       "      <td>0.0</td>\n",
       "      <td>0.0</td>\n",
       "      <td>3.0</td>\n",
       "      <td>0.0</td>\n",
       "      <td>0.0</td>\n",
       "      <td>0.0</td>\n",
       "      <td>...</td>\n",
       "      <td>0.0</td>\n",
       "      <td>0.0</td>\n",
       "      <td>0.0</td>\n",
       "      <td>0.0</td>\n",
       "      <td>0.0</td>\n",
       "      <td>0.0</td>\n",
       "      <td>0.0</td>\n",
       "      <td>0.0</td>\n",
       "      <td>0.0</td>\n",
       "      <td>0.0</td>\n",
       "    </tr>\n",
       "    <tr>\n",
       "      <th>9</th>\n",
       "      <td>0.0</td>\n",
       "      <td>0.0</td>\n",
       "      <td>0.0</td>\n",
       "      <td>0.0</td>\n",
       "      <td>0.0</td>\n",
       "      <td>0.0</td>\n",
       "      <td>4.0</td>\n",
       "      <td>0.0</td>\n",
       "      <td>0.0</td>\n",
       "      <td>0.0</td>\n",
       "      <td>...</td>\n",
       "      <td>0.0</td>\n",
       "      <td>0.0</td>\n",
       "      <td>0.0</td>\n",
       "      <td>0.0</td>\n",
       "      <td>0.0</td>\n",
       "      <td>0.0</td>\n",
       "      <td>0.0</td>\n",
       "      <td>0.0</td>\n",
       "      <td>0.0</td>\n",
       "      <td>0.0</td>\n",
       "    </tr>\n",
       "    <tr>\n",
       "      <th>10</th>\n",
       "      <td>4.0</td>\n",
       "      <td>0.0</td>\n",
       "      <td>0.0</td>\n",
       "      <td>4.0</td>\n",
       "      <td>0.0</td>\n",
       "      <td>0.0</td>\n",
       "      <td>0.0</td>\n",
       "      <td>0.0</td>\n",
       "      <td>4.0</td>\n",
       "      <td>0.0</td>\n",
       "      <td>...</td>\n",
       "      <td>0.0</td>\n",
       "      <td>0.0</td>\n",
       "      <td>0.0</td>\n",
       "      <td>0.0</td>\n",
       "      <td>0.0</td>\n",
       "      <td>0.0</td>\n",
       "      <td>0.0</td>\n",
       "      <td>0.0</td>\n",
       "      <td>0.0</td>\n",
       "      <td>0.0</td>\n",
       "    </tr>\n",
       "  </tbody>\n",
       "</table>\n",
       "<p>10 rows × 1680 columns</p>\n",
       "</div>"
      ],
      "text/plain": [
       "item  1     2     3     4     5     6     7     8     9     10    ...   1673  \\\n",
       "user                                                              ...          \n",
       "1      5.0   3.0   4.0   3.0   3.0   5.0   4.0   1.0   5.0   3.0  ...    0.0   \n",
       "2      4.0   0.0   0.0   0.0   0.0   0.0   0.0   0.0   0.0   2.0  ...    0.0   \n",
       "3      0.0   0.0   0.0   0.0   0.0   0.0   0.0   0.0   0.0   0.0  ...    0.0   \n",
       "4      0.0   0.0   0.0   0.0   0.0   0.0   0.0   0.0   0.0   0.0  ...    0.0   \n",
       "5      0.0   0.0   0.0   0.0   0.0   0.0   0.0   0.0   0.0   0.0  ...    0.0   \n",
       "6      4.0   0.0   0.0   0.0   0.0   0.0   2.0   4.0   4.0   0.0  ...    0.0   \n",
       "7      0.0   0.0   0.0   5.0   0.0   0.0   5.0   5.0   5.0   4.0  ...    0.0   \n",
       "8      0.0   0.0   0.0   0.0   0.0   0.0   3.0   0.0   0.0   0.0  ...    0.0   \n",
       "9      0.0   0.0   0.0   0.0   0.0   0.0   4.0   0.0   0.0   0.0  ...    0.0   \n",
       "10     4.0   0.0   0.0   4.0   0.0   0.0   0.0   0.0   4.0   0.0  ...    0.0   \n",
       "\n",
       "item  1674  1675  1676  1677  1678  1679  1680  1681  1682  \n",
       "user                                                        \n",
       "1      0.0   0.0   0.0   0.0   0.0   0.0   0.0   0.0   0.0  \n",
       "2      0.0   0.0   0.0   0.0   0.0   0.0   0.0   0.0   0.0  \n",
       "3      0.0   0.0   0.0   0.0   0.0   0.0   0.0   0.0   0.0  \n",
       "4      0.0   0.0   0.0   0.0   0.0   0.0   0.0   0.0   0.0  \n",
       "5      0.0   0.0   0.0   0.0   0.0   0.0   0.0   0.0   0.0  \n",
       "6      0.0   0.0   0.0   0.0   0.0   0.0   0.0   0.0   0.0  \n",
       "7      0.0   0.0   0.0   0.0   0.0   0.0   0.0   0.0   0.0  \n",
       "8      0.0   0.0   0.0   0.0   0.0   0.0   0.0   0.0   0.0  \n",
       "9      0.0   0.0   0.0   0.0   0.0   0.0   0.0   0.0   0.0  \n",
       "10     0.0   0.0   0.0   0.0   0.0   0.0   0.0   0.0   0.0  \n",
       "\n",
       "[10 rows x 1680 columns]"
      ]
     },
     "execution_count": 6,
     "metadata": {},
     "output_type": "execute_result"
    }
   ],
   "source": [
    "user_item_table.head(10)"
   ]
  },
  {
   "cell_type": "code",
   "execution_count": 7,
   "metadata": {
    "collapsed": false
   },
   "outputs": [],
   "source": [
    "itemID_columnID = {}\n",
    "for i, a in enumerate(user_item_table.columns):\n",
    "    itemID_columnID[a] = i"
   ]
  },
  {
   "cell_type": "code",
   "execution_count": 8,
   "metadata": {
    "collapsed": false
   },
   "outputs": [],
   "source": [
    "# -- Подсчет среднего для оценок (не учитывая нули)\n",
    "def mean_known(arr):\n",
    "    count_zeros = np.array([np.count_nonzero(line, axis=0) for line in arr])\n",
    "    count_zeros[count_zeros == 0] = 1\n",
    "    return (arr.sum(axis=1)).astype(float) / count_zeros"
   ]
  },
  {
   "cell_type": "code",
   "execution_count": 9,
   "metadata": {
    "collapsed": true
   },
   "outputs": [],
   "source": [
    "# -- Заполнение нулей средним значением оценки пользователя\n",
    "def fillzero2mean(arr):\n",
    "    mean_user = mean_known(arr)\n",
    "    mean_item = mean_known(arr.T)\n",
    "    for i in xrange(len(mean_user)):\n",
    "        for j in xrange(len(mean_item)):\n",
    "            if arr[i, j] == 0:\n",
    "                arr[i, j] = np.mean([mean_user[i], mean_item[j]])\n",
    "    \n",
    "    return arr"
   ]
  },
  {
   "cell_type": "code",
   "execution_count": 10,
   "metadata": {
    "collapsed": false
   },
   "outputs": [],
   "source": [
    "user_item = user_item_table.values"
   ]
  },
  {
   "cell_type": "code",
   "execution_count": 11,
   "metadata": {
    "collapsed": false
   },
   "outputs": [
    {
     "data": {
      "image/png": "[encoded data removed]",
      "text/plain": [
       "<matplotlib.figure.Figure at 0x10ecec410>"
      ]
     },
     "metadata": {},
     "output_type": "display_data"
    },
    {
     "name": "stdout",
     "output_type": "stream",
     "text": [
      "96.0445387063\n"
     ]
    }
   ],
   "source": [
    "count_mark = np.asarray([np.count_nonzero(u) for u in user_item])\n",
    "plt.hist(count_mark, bins=50)\n",
    "plt.show()\n",
    "\n",
    "print count_mark.mean()"
   ]
  },
  {
   "cell_type": "code",
   "execution_count": 12,
   "metadata": {
    "collapsed": true
   },
   "outputs": [],
   "source": [
    "def count_log(arr):\n",
    "    for row in xrange(len(arr)):\n",
    "        arr[row] = [np.log(np.count_nonzero(arr[row]) + 1)] * len(arr[row])\n",
    "    return np.array(arr)"
   ]
  },
  {
   "cell_type": "markdown",
   "metadata": {},
   "source": [
    "### Cross-validation"
   ]
  },
  {
   "cell_type": "code",
   "execution_count": 14,
   "metadata": {
    "collapsed": false
   },
   "outputs": [],
   "source": [
    "def train_test_split(user_item, test_size=0.6):\n",
    "    trainCV = user_item.copy()\n",
    "    non_zero = []\n",
    "    for user in xrange(user_item.shape[0]):\n",
    "        for item in xrange(user_item.shape[1]):\n",
    "            if user_item[user, item] > 0:\n",
    "                non_zero.append((user, item))\n",
    "    \n",
    "    random.shuffle(non_zero)\n",
    "    test = non_zero[: int(len(non_zero) * test_size)]\n",
    "    train = non_zero[int(len(non_zero) * test_size) :]\n",
    "    \n",
    "    for cell in test:\n",
    "        trainCV[cell[0], cell[1]] = 0.0\n",
    "        \n",
    "    return trainCV, test, train"
   ]
  },
  {
   "cell_type": "code",
   "execution_count": 15,
   "metadata": {
    "collapsed": false
   },
   "outputs": [],
   "source": [
    "trainCV, testCV, train_pairs = train_test_split(user_item, test_size = 0.1)\n",
    "trainCV_fillna = fillzero2mean(trainCV.copy())"
   ]
  },
  {
   "cell_type": "code",
   "execution_count": 16,
   "metadata": {
    "collapsed": true
   },
   "outputs": [],
   "source": [
    "trainCV_count_log = count_log(trainCV.copy())"
   ]
  },
  {
   "cell_type": "markdown",
   "metadata": {},
   "source": [
    "### Accuracy"
   ]
  },
  {
   "cell_type": "code",
   "execution_count": 17,
   "metadata": {
    "collapsed": false
   },
   "outputs": [],
   "source": [
    "def MSE(test, predict, train):\n",
    "    result = 0\n",
    "    for cell in test:\n",
    "        result += (predict[cell[0], cell[1]] - train[cell[0], cell[1]]) ** 2\n",
    "    \n",
    "    return result / len(test)"
   ]
  },
  {
   "cell_type": "markdown",
   "metadata": {},
   "source": [
    "### Графики"
   ]
  },
  {
   "cell_type": "code",
   "execution_count": 18,
   "metadata": {
    "collapsed": true
   },
   "outputs": [],
   "source": [
    "def plot_MSE(setsMSE):\n",
    "    plt.figure(figsize=(10,10))\n",
    "    \n",
    "    for i, (MSE_train, MSE_test) in enumerate(setsMSE):\n",
    "        plt.plot(range(len(MSE_train)), MSE_train, label='Train ' + str(i), color='b')\n",
    "        plt.plot(range(len(MSE_test)), MSE_test, label='Test ' + str(i), color='r')\n",
    "        \n",
    "    plt.legend()\n",
    "    return plt"
   ]
  },
  {
   "cell_type": "markdown",
   "metadata": {},
   "source": [
    "### I-ALS"
   ]
  },
  {
   "cell_type": "code",
   "execution_count": 88,
   "metadata": {
    "collapsed": false
   },
   "outputs": [],
   "source": [
    "class IALS():\n",
    "    def __init__(self, n_iterations=20, n_features=100, penalty=0.001, alpha=40):\n",
    "        self.n_iterations = n_iterations\n",
    "        self.n_features = n_features\n",
    "        self.penalty = penalty\n",
    "        self.alpha = alpha\n",
    "        \n",
    "    def fit(self, data_table, data_table_fillna, original, add=False, new_alpha=None, new_n_iteration=None, new_penalty=None):\n",
    "        self.n_user = data_table.shape[0]\n",
    "        self.n_item = data_table.shape[1]\n",
    "        if not add:\n",
    "            self.X = []\n",
    "            self.Y = []\n",
    "            self.biasU = np.array([0] * self.n_user)\n",
    "            self.biasI = np.array([0] * self.n_item)\n",
    "\n",
    "            Xbias = np.random.rand(data_table.shape[0], self.n_features + 1)  # __ m x f __\n",
    "            Ybias = np.random.rand(data_table.shape[1], self.n_features + 1)  # __ n x f __\n",
    "        else:\n",
    "            if new_alpha:\n",
    "                self.alpha = new_alpha\n",
    "            if new_n_iteration:\n",
    "                self.n_iterations = new_n_iteration\n",
    "            if new_penalty:\n",
    "                self.penalty = new_penalty\n",
    "                \n",
    "            X = self.X[-1].copy()\n",
    "            Y = self.Y[-1].copy()\n",
    "            \n",
    "            \n",
    "        C = 1.0 + self.alpha * (data_table > 0).astype(float) \n",
    "#         + data_table_count_log)\n",
    "#         self.alpha * (data_table > 0).astype(float) \\\n",
    "#          + \n",
    "#                  +  * (data_table > 0).astype(float)              # __ weights Cu __\n",
    "                   \n",
    "#         C = 1 + self.alpha * user_item\n",
    "        C_I = C - np.ones(C.shape) # -- Cu - I array\n",
    "        lambdaI = self.penalty * np.eye(self.n_features + 1)\n",
    "        \n",
    "        last_time = time.time()\n",
    "        for stage in xrange(self.n_iterations):\n",
    "            \n",
    "            # __ X^T Ci X = X^T X + X^T (Ci - I) X __\n",
    "            # __ X^T X - independent on user __\n",
    "            \n",
    "            # __ Y^T Cu Y = Y^T Y + Y^T (Cu - I) Y __\n",
    "            # __ Y^T Y - independent on user __\n",
    "            \n",
    "            Ybias[:,0] = np.ones((1, self.n_item))\n",
    "            Xbias[:,0] = self.biasU.reshape(1,len(self.biasU))\n",
    "            YTY = np.dot(Ybias.T, Ybias)\n",
    "            \n",
    "            for user in xrange(self.n_user):\n",
    "                tmp = YTY.copy()\n",
    "                tmp = tmp + np.dot(np.dot(Ybias.T, np.diag(C_I[user])), Ybias)  # __ Y^T (Cu - I) Y __\n",
    "                tmp = tmp + lambdaI\n",
    "                tmp = np.linalg.inv(tmp)\n",
    "                tmp = np.dot(np.dot(tmp, Ybias.T), np.diag(C[user]))\n",
    "                tmp = np.dot(tmp, data_table_fillna[user] - self.biasI)\n",
    "                Xbias[user] = tmp\n",
    "            self.biasU = Xbias[:,0]\n",
    "            \n",
    "            print '___________________'\n",
    "            print \"Step: %d\" %stage\n",
    "            predicted = np.dot(Xbias[:,1:], Ybias[:,1:].T) + np.array([self.biasU] * self.n_item).reshape(self.n_user, self.n_item) + np.array([[self.biasI]] * self.n_user).reshape(self.n_user, self.n_item)\n",
    "            print \"MSE All: %f\" %mean_squared_error(predicted, data_table_fillna)\n",
    "            print \"MSE Train: %f\" %MSE(train_pairs, predicted, original)    \n",
    "            print \"MSE Test: %f\" %MSE(testCV, predicted, original)\n",
    "            print \"Time: {:.3f} sec\".format(time.time() - last_time)\n",
    "            last_time = time.time()\n",
    "            \n",
    "            Ybias[:,0] = self.biasI.reshape(1, len(self.biasI))\n",
    "            Xbias[:,0] = np.ones((1, self.n_user))\n",
    "            XTX = np.dot(Xbias.T, Xbias)\n",
    "            \n",
    "            for item in xrange(data_table.shape[1]):\n",
    "                tmp = XTX.copy()\n",
    "                tmp = tmp + np.dot(np.dot(Xbias.T, np.diag(C_I[:, item])), Xbias)  # __ X^T (Cu - I) X __\n",
    "                tmp = tmp + lambdaI\n",
    "                tmp = np.linalg.inv(tmp)\n",
    "                tmp = np.dot(np.dot(tmp, Xbias.T), np.diag(C[:, item]))\n",
    "                tmp = np.dot(tmp, data_table_fillna[:, item] - self.biasU)\n",
    "                Ybias[item] = tmp\n",
    "            self.biasI = Ybias[:,0]\n",
    "                \n",
    "            print '___________________'\n",
    "            print \"Step: %d\" %stage\n",
    "            predicted = np.dot(Xbias[:,1:], Ybias[:,1:].T) + np.array([self.biasU] * self.n_item).reshape(self.n_user, self.n_item) + np.array([[self.biasI]] * self.n_user).reshape(self.n_user, self.n_item)\n",
    "            print \"MSE All: %f\" %mean_squared_error(predicted, data_table_fillna)\n",
    "            print \"MSE Train: %f\" %MSE(train_pairs, predicted, original)    \n",
    "            print \"MSE Test: %f\" %MSE(testCV, predicted, original)\n",
    "            print \"Time: {:.3f} sec\".format(time.time() - last_time)\n",
    "            last_time = time.time()\n",
    "            \n",
    "        self.X.append(Xbias[:,1:].copy())\n",
    "        self.Y.append(Ybias[:,1:].copy())\n",
    "        \n",
    "        return self\n",
    "    \n",
    "    def predict(self):\n",
    "        print len(self.X)\n",
    "        return np.dot(self.X[-1], self.Y[-1].T) + np.array([self.biasU] * self.n_item).reshape(self.n_user, self.n_item) + np.array([[self.biasI]] * self.n_user).reshape(self.n_user, self.n_item)\n",
    "        \n",
    "        "
   ]
  },
  {
   "cell_type": "code",
   "execution_count": 74,
   "metadata": {
    "collapsed": true
   },
   "outputs": [
    {
     "name": "stdout",
     "output_type": "stream",
     "text": [
      "___________________\n",
      "Step: 0\n",
      "MSE All: 0.571634\n",
      "MSE Train: 0.739338\n",
      "MSE Test: 1.078612\n",
      "Time: 93.094 sec\n",
      "___________________\n",
      "Step: 1\n",
      "MSE All: 0.227150\n",
      "MSE Train: 0.472406\n",
      "MSE Test: 0.941804\n",
      "Time: 98.521 sec\n",
      "___________________\n",
      "Step: 2\n",
      "MSE All: 0.147922\n",
      "MSE Train: 0.413312\n",
      "MSE Test: 0.924040\n",
      "Time: 96.745 sec\n",
      "___________________\n",
      "Step: 3\n",
      "MSE All: 0.108417\n",
      "MSE Train: 0.387081\n",
      "MSE Test: 0.900597\n",
      "Time: 94.784 sec\n",
      "___________________\n",
      "Step: 4\n",
      "MSE All: 0.086890\n",
      "MSE Train: 0.371608\n",
      "MSE Test: 0.880375\n",
      "Time: 102.787 sec\n",
      "___________________\n",
      "Step: 5\n",
      "MSE All: 0.074366\n",
      "MSE Train: 0.362698\n",
      "MSE Test: 0.867459\n",
      "Time: 101.510 sec\n",
      "___________________\n",
      "Step: 6\n",
      "MSE All: 0.066341\n",
      "MSE Train: 0.357484\n",
      "MSE Test: 0.859567\n",
      "Time: 96.113 sec\n",
      "___________________\n",
      "Step: 7\n",
      "MSE All: 0.060788\n",
      "MSE Train: 0.354264\n",
      "MSE Test: 0.854585\n",
      "Time: 96.771 sec\n",
      "___________________\n",
      "Step: 8\n",
      "MSE All: 0.056728\n",
      "MSE Train: 0.352168\n",
      "MSE Test: 0.851298\n",
      "Time: 95.464 sec\n",
      "___________________\n",
      "Step: 9\n",
      "MSE All: 0.053640\n",
      "MSE Train: 0.350743\n",
      "MSE Test: 0.849041\n",
      "Time: 100.339 sec\n"
     ]
    },
    {
     "data": {
      "text/plain": [
       "<__main__.IALS instance at 0x1044a8d88>"
      ]
     },
     "execution_count": 74,
     "metadata": {},
     "output_type": "execute_result"
    }
   ],
   "source": [
    "# Больше 5 + log количества оценок\n",
    "myIALS = IALS(n_iterations=10, n_features=150, penalty=600.0, alpha=40) \n",
    "myIALS.fit(trainCV.copy(), trainCV_fillna.copy(), trainCV_count_log.copy(), user_item.copy())"
   ]
  },
  {
   "cell_type": "code",
   "execution_count": 32,
   "metadata": {
    "collapsed": true
   },
   "outputs": [
    {
     "name": "stdout",
     "output_type": "stream",
     "text": [
      "___________________\n",
      "Step: 0\n",
      "MSE All: 0.103950\n",
      "MSE Train: 0.718955\n",
      "MSE Test: 0.848396\n",
      "Time: 31.928 sec\n",
      "___________________\n",
      "Step: 1\n",
      "MSE All: 0.106867\n",
      "MSE Train: 0.716114\n",
      "MSE Test: 0.847661\n",
      "Time: 31.305 sec\n",
      "___________________\n",
      "Step: 2\n",
      "MSE All: 0.107793\n",
      "MSE Train: 0.715507\n",
      "MSE Test: 0.847405\n",
      "Time: 30.486 sec\n"
     ]
    },
    {
     "data": {
      "text/plain": [
       "<__main__.IALS instance at 0x10b7177a0>"
      ]
     },
     "execution_count": 32,
     "metadata": {},
     "output_type": "execute_result"
    }
   ],
   "source": [
    "myIALS.fit(trainCV.copy(), trainCV_fillna.copy(), trainCV_count_log.copy(), user_item.copy(), add=True, new_n_iteration=3, new_alpha=50, new_penalty=100)\n"
   ]
  },
  {
   "cell_type": "code",
   "execution_count": 44,
   "metadata": {
    "collapsed": true
   },
   "outputs": [
    {
     "name": "stdout",
     "output_type": "stream",
     "text": [
      "___________________\n",
      "Step: 0\n",
      "MSE All: 0.167174\n",
      "MSE Train: 0.567111\n",
      "MSE Test: 0.824107\n",
      "Time: 95.219 sec\n",
      "___________________\n",
      "Step: 1\n",
      "MSE All: 0.164158\n",
      "MSE Train: 0.552722\n",
      "MSE Test: 0.825391\n",
      "Time: 91.763 sec\n",
      "___________________\n",
      "Step: 2\n",
      "MSE All: 0.161913\n",
      "MSE Train: 0.540347\n",
      "MSE Test: 0.826444\n",
      "Time: 91.550 sec\n"
     ]
    },
    {
     "ename": "KeyboardInterrupt",
     "evalue": "",
     "output_type": "error",
     "traceback": [
      "\u001b[0;31m---------------------------------------------------------------------------\u001b[0m",
      "\u001b[0;31mKeyboardInterrupt\u001b[0m                         Traceback (most recent call last)",
      "\u001b[0;32m<ipython-input-44-0c147243de02>\u001b[0m in \u001b[0;36m<module>\u001b[0;34m()\u001b[0m\n\u001b[0;32m----> 1\u001b[0;31m \u001b[0mmyIALS\u001b[0m\u001b[0;34m.\u001b[0m\u001b[0mfit\u001b[0m\u001b[0;34m(\u001b[0m\u001b[0mtrainCV\u001b[0m\u001b[0;34m.\u001b[0m\u001b[0mcopy\u001b[0m\u001b[0;34m(\u001b[0m\u001b[0;34m)\u001b[0m\u001b[0;34m,\u001b[0m \u001b[0mtrainCV_fillna\u001b[0m\u001b[0;34m.\u001b[0m\u001b[0mcopy\u001b[0m\u001b[0;34m(\u001b[0m\u001b[0;34m)\u001b[0m\u001b[0;34m,\u001b[0m \u001b[0mtrainCV_count_log\u001b[0m\u001b[0;34m.\u001b[0m\u001b[0mcopy\u001b[0m\u001b[0;34m(\u001b[0m\u001b[0;34m)\u001b[0m\u001b[0;34m,\u001b[0m \u001b[0muser_item\u001b[0m\u001b[0;34m.\u001b[0m\u001b[0mcopy\u001b[0m\u001b[0;34m(\u001b[0m\u001b[0;34m)\u001b[0m\u001b[0;34m,\u001b[0m \u001b[0madd\u001b[0m\u001b[0;34m=\u001b[0m\u001b[0mTrue\u001b[0m\u001b[0;34m,\u001b[0m \u001b[0mnew_n_iteration\u001b[0m\u001b[0;34m=\u001b[0m\u001b[0;36m5\u001b[0m\u001b[0;34m,\u001b[0m \u001b[0mnew_alpha\u001b[0m\u001b[0;34m=\u001b[0m\u001b[0;36m40\u001b[0m\u001b[0;34m,\u001b[0m \u001b[0mnew_penalty\u001b[0m\u001b[0;34m=\u001b[0m\u001b[0;36m550\u001b[0m\u001b[0;34m)\u001b[0m\u001b[0;34m\u001b[0m\u001b[0m\n\u001b[0m",
      "\u001b[0;32m<ipython-input-18-484f1c527c97>\u001b[0m in \u001b[0;36mfit\u001b[0;34m(self, data_table, data_table_fillna, data_table_count_log, original, add, new_alpha, new_n_iteration, new_penalty)\u001b[0m\n\u001b[1;32m     71\u001b[0m \u001b[0;31m#                 tmp = tmp + self.penalty * tmp.mean() * np.eye(self.n_features)\u001b[0m\u001b[0;34m\u001b[0m\u001b[0;34m\u001b[0m\u001b[0m\n\u001b[1;32m     72\u001b[0m                 \u001b[0mtmp\u001b[0m \u001b[0;34m=\u001b[0m \u001b[0mnp\u001b[0m\u001b[0;34m.\u001b[0m\u001b[0mlinalg\u001b[0m\u001b[0;34m.\u001b[0m\u001b[0minv\u001b[0m\u001b[0;34m(\u001b[0m\u001b[0mtmp\u001b[0m\u001b[0;34m)\u001b[0m\u001b[0;34m\u001b[0m\u001b[0m\n\u001b[0;32m---> 73\u001b[0;31m                 \u001b[0mtmp\u001b[0m \u001b[0;34m=\u001b[0m \u001b[0mnp\u001b[0m\u001b[0;34m.\u001b[0m\u001b[0mdot\u001b[0m\u001b[0;34m(\u001b[0m\u001b[0mnp\u001b[0m\u001b[0;34m.\u001b[0m\u001b[0mdot\u001b[0m\u001b[0;34m(\u001b[0m\u001b[0mtmp\u001b[0m\u001b[0;34m,\u001b[0m \u001b[0mX\u001b[0m\u001b[0;34m.\u001b[0m\u001b[0mT\u001b[0m\u001b[0;34m)\u001b[0m\u001b[0;34m,\u001b[0m \u001b[0mnp\u001b[0m\u001b[0;34m.\u001b[0m\u001b[0mdiag\u001b[0m\u001b[0;34m(\u001b[0m\u001b[0mC\u001b[0m\u001b[0;34m[\u001b[0m\u001b[0;34m:\u001b[0m\u001b[0;34m,\u001b[0m \u001b[0mitem\u001b[0m\u001b[0;34m]\u001b[0m\u001b[0;34m)\u001b[0m\u001b[0;34m)\u001b[0m\u001b[0;34m\u001b[0m\u001b[0m\n\u001b[0m\u001b[1;32m     74\u001b[0m                 \u001b[0mtmp\u001b[0m \u001b[0;34m=\u001b[0m \u001b[0mnp\u001b[0m\u001b[0;34m.\u001b[0m\u001b[0mdot\u001b[0m\u001b[0;34m(\u001b[0m\u001b[0mtmp\u001b[0m\u001b[0;34m,\u001b[0m \u001b[0mdata_table_fillna\u001b[0m\u001b[0;34m[\u001b[0m\u001b[0;34m:\u001b[0m\u001b[0;34m,\u001b[0m \u001b[0mitem\u001b[0m\u001b[0;34m]\u001b[0m\u001b[0;34m)\u001b[0m\u001b[0;34m\u001b[0m\u001b[0m\n\u001b[1;32m     75\u001b[0m                 \u001b[0mY\u001b[0m\u001b[0;34m[\u001b[0m\u001b[0mitem\u001b[0m\u001b[0;34m]\u001b[0m \u001b[0;34m=\u001b[0m \u001b[0mtmp\u001b[0m\u001b[0;34m\u001b[0m\u001b[0m\n",
      "\u001b[0;31mKeyboardInterrupt\u001b[0m: "
     ]
    }
   ],
   "source": [
    "myIALS.fit(trainCV.copy(), trainCV_fillna.copy(), trainCV_count_log.copy(), user_item.copy(), add=True, new_n_iteration=5, new_alpha=40, new_penalty=550)\n"
   ]
  },
  {
   "cell_type": "markdown",
   "metadata": {},
   "source": [
    "### Предсказание теста"
   ]
  },
  {
   "cell_type": "code",
   "execution_count": 18,
   "metadata": {
    "collapsed": true
   },
   "outputs": [],
   "source": [
    "user_item_fillna = fillzero2mean(user_item.copy())"
   ]
  },
  {
   "cell_type": "code",
   "execution_count": 90,
   "metadata": {
    "collapsed": false
   },
   "outputs": [
    {
     "name": "stdout",
     "output_type": "stream",
     "text": [
      "1\n"
     ]
    }
   ],
   "source": [
    "predicted_user_item = myIALS.predict()"
   ]
  },
  {
   "cell_type": "code",
   "execution_count": 129,
   "metadata": {
    "collapsed": false
   },
   "outputs": [],
   "source": [
    "predict_test = []\n",
    "for i, item_test in enumerate(test.values):\n",
    "    if item_test[1] not in itemID_columnID:\n",
    "        predict_test.append(predicted_user_item[item_test[0] - 1].mean())\n",
    "    else:\n",
    "        tmp_predict = predicted_user_item[item_test[0] - 1][itemID_columnID[item_test[1]]]\n",
    "        if tmp_predict > 5:\n",
    "            tmp_predict = 5.0\n",
    "        elif tmp_predict < 1.0:\n",
    "            tmp_predict = 1.0\n",
    "        predict_test.append(tmp_predict)"
   ]
  },
  {
   "cell_type": "code",
   "execution_count": 127,
   "metadata": {
    "collapsed": false
   },
   "outputs": [],
   "source": [
    "pred = pd.DataFrame({'Id':range(1,len(test)+1), 'Mark':predict_test})\n",
    "pred.to_csv('predict1', index=False)"
   ]
  },
  {
   "cell_type": "code",
   "execution_count": null,
   "metadata": {
    "collapsed": true
   },
   "outputs": [],
   "source": []
  }
 ],
 "metadata": {
  "kernelspec": {
   "display_name": "Python 2",
   "language": "python",
   "name": "python2"
  },
  "language_info": {
   "codemirror_mode": {
    "name": "ipython",
    "version": 2
   },
   "file_extension": ".py",
   "mimetype": "text/x-python",
   "name": "python",
   "nbconvert_exporter": "python",
   "pygments_lexer": "ipython2",
   "version": "2.7.13"
  }
 },
 "nbformat": 4,
 "nbformat_minor": 2
}
